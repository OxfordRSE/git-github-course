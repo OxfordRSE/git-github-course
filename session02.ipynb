{
 "cells": [
  {
   "cell_type": "markdown",
   "metadata": {},
   "source": [
    "## Introduction"
   ]
  },
  {
   "cell_type": "markdown",
   "metadata": {},
   "source": [
    "### Content Overview\n",
    "\n",
    "- Introduction to Version Control \n",
    "- Working on a local repository \n",
    "- Version Control with GitHub\n",
    "- Collaborative Version Control"
   ]
  },
  {
   "cell_type": "markdown",
   "metadata": {},
   "source": [
    "### What's version control?\n",
    "\n",
    "Tool for __managing changes__ to a set of files.\n",
    "\n",
    "Different __version control systems__: \n",
    "\n",
    "- Git \n",
    "- Mercurial (`hg`)\n",
    "- CVS\n",
    "- Subversion (`svn`)\n",
    "- ..."
   ]
  },
  {
   "cell_type": "markdown",
   "metadata": {},
   "source": [
    "### Why use version control?\n",
    "\n",
    "- Better kind of __backup__.\n",
    "- Review __history__ (\"When did I introduce this bug?\").\n",
    "- Restore older __code versions__.\n",
    "- Ability to __undo mistakes__.\n",
    "- Maintain __several versions__ of the code at a time."
   ]
  },
  {
   "cell_type": "markdown",
   "metadata": {},
   "source": [
    "### Why use version control? (cont.)\n",
    "\n",
    "Git is also a __collaborative__ tool:\n",
    "\n",
    "- \"How can I share my code?\"\n",
    "- \"How can I submit a change to someone else's code?\"\n",
    "- \"How can I merge my work with Sue's?\"\n",
    "\n",
    "### Git != GitHub\n",
    "\n",
    "- __Git__: version control system tool to manage source code history.\n",
    "\n",
    "- __GitHub__: hosting service for Git repositories."
   ]
  },
  {
   "cell_type": "markdown",
   "metadata": {},
   "source": [
    "###How do we use version control?\n",
    "\n",
    "Do some programming, then commit our work:\n",
    "\n",
    "`my_vcs commit`\n",
    "\n",
    "Program some more.\n",
    "\n",
    "Spot a mistake:\n",
    "\n",
    "`my_vcs rollback`\n",
    "\n",
    "Mistake is undone."
   ]
  },
  {
   "cell_type": "markdown",
   "metadata": {},
   "source": [
    "### What is version control? (Team version)\n",
    "\n",
    "Sue                | James\n",
    "------------------ |------   \n",
    "`my_vcs commit`    | ...\n",
    "...                | Join the team\n",
    "...                | `my_vcs checkout`\n",
    "...                | Do some programming\n",
    "...                | `my_vcs commit`\n",
    "`my_vcs update`\t\t | ...\n",
    "Do some programming|Do some programming\n",
    "`my_vcs commit`    | ...\n",
    "`my_vcs update`    | ...\n",
    "`my_vcs merge`     | ...\n",
    "`my_vcs commit`    | ..."
   ]
  },
  {
   "cell_type": "markdown",
   "metadata": {},
   "source": [
    "###Scope\n",
    "\n",
    "This course will use the `git` version control system, but much of what you learn will be valid with other version control \n",
    "tools you may encounter, including subversion (`svn`) and mercurial (`hg`)."
   ]
  },
  {
   "cell_type": "markdown",
   "metadata": {},
   "source": [
    "##Practising with Git"
   ]
  },
  {
   "cell_type": "markdown",
   "metadata": {},
   "source": [
    "###Example Exercise\n",
    "\n",
    "In this course, we will use, as an example, the development of a few text files containing a description of a topic of your choice. \n",
    "\n",
    "This could be your research, a hobby, or something else. In the end, we will show you how to display the content of these files as a very simple website. "
   ]
  },
  {
   "cell_type": "markdown",
   "metadata": {},
   "source": [
    "###Programming and documents\n",
    "\n",
    "The purpose of this exercise is to learn how to use Git to manage program code you write, not simple text website content, but we'll just use these text files instead of code for now, so as not to confuse matters with trying to learn version control while thinking about programming too. \n",
    "\n",
    "In later parts of the course, you will use the version control tools you learn today with actual Python code."
   ]
  },
  {
   "cell_type": "markdown",
   "metadata": {},
   "source": [
    "###Markdown\n",
    "\n",
    "The text files we create will use a simple \"wiki\" markup style called [markdown](http://daringfireball.net/projects/markdown/basics) to show formatting. This is the convention used in this file, too. \n",
    "\n",
    "You can view the content of this file in the way Markdown renders it by looking on the [web](https://github.com/UCL/ucl_software_carpentry/blob/master/git/git_instructions.md), and compare the [raw text](https://raw.github.com/UCL/ucl_software_carpentry/master/git/git_instructions.md)."
   ]
  },
  {
   "cell_type": "markdown",
   "metadata": {},
   "source": [
    "###Displaying Text in this Tutorial\n",
    "\n",
    "This tutorial is based on use of the Git command line. So you'll be typing commands in the shell."
   ]
  },
  {
   "cell_type": "markdown",
   "metadata": {},
   "source": [
    "To make it easy for me to edit, I've built it using IPython notebook."
   ]
  },
  {
   "cell_type": "markdown",
   "metadata": {},
   "source": [
    "Commands you can type will look like this, using the %%bash \"magic\" for the notebook."
   ]
  },
  {
   "cell_type": "code",
   "execution_count": 1,
   "metadata": {
    "attributes": {
     "classes": [
      " Bash"
     ],
     "id": ""
    },
    "collapsed": false
   },
   "outputs": [
    {
     "name": "stdout",
     "output_type": "stream",
     "text": [
      "some output\n"
     ]
    }
   ],
   "source": [
    "%%bash\n",
    "echo some output"
   ]
  },
  {
   "cell_type": "markdown",
   "metadata": {},
   "source": [
    "with the results you should see below. "
   ]
  },
  {
   "cell_type": "markdown",
   "metadata": {},
   "source": [
    "In this document, we will show the new content of an edited document like this:"
   ]
  },
  {
   "cell_type": "code",
   "execution_count": 2,
   "metadata": {
    "collapsed": false
   },
   "outputs": [
    {
     "name": "stdout",
     "output_type": "stream",
     "text": [
      "Overwriting somefile.md\n"
     ]
    }
   ],
   "source": [
    "%%writefile somefile.md\n",
    "Some content here"
   ]
  },
  {
   "cell_type": "markdown",
   "metadata": {},
   "source": [
    "But if you are following along, you should edit the file using a text editor.\n",
    "On windows, we recommend [Notepad++](https://notepad-plus-plus.org).\n",
    "On mac, we recommend [Atom](https://atom.io)"
   ]
  },
  {
   "cell_type": "markdown",
   "metadata": {},
   "source": [
    "###Setting up somewhere to work"
   ]
  },
  {
   "cell_type": "code",
   "execution_count": 3,
   "metadata": {
    "attributes": {
     "classes": [
      " Bash"
     ],
     "id": ""
    },
    "collapsed": false
   },
   "outputs": [],
   "source": [
    "%%bash\n",
    "rm -rf learning_git/git_example # Just in case it's left over from a previous class; you won't need this\n",
    "mkdir -p learning_git/git_example\n",
    "cd learning_git/git_example"
   ]
  },
  {
   "cell_type": "markdown",
   "metadata": {},
   "source": [
    "(I just need to move this IPython notebook's current directory as well)"
   ]
  },
  {
   "cell_type": "code",
   "execution_count": 4,
   "metadata": {
    "collapsed": false
   },
   "outputs": [
    {
     "data": {
      "text/plain": [
       "'/Users/jamespjh/devel/rsdt/training/rsd-engineeringcourse/session02'"
      ]
     },
     "execution_count": 4,
     "metadata": {},
     "output_type": "execute_result"
    }
   ],
   "source": [
    "import os\n",
    "top_dir = os.getcwd()\n",
    "top_dir"
   ]
  },
  {
   "cell_type": "code",
   "execution_count": 5,
   "metadata": {
    "collapsed": false
   },
   "outputs": [
    {
     "data": {
      "text/plain": [
       "'/Users/jamespjh/devel/rsdt/training/rsd-engineeringcourse/session02/learning_git'"
      ]
     },
     "execution_count": 5,
     "metadata": {},
     "output_type": "execute_result"
    }
   ],
   "source": [
    "git_dir = os.path.join(top_dir, 'learning_git')\n",
    "git_dir"
   ]
  },
  {
   "cell_type": "code",
   "execution_count": 6,
   "metadata": {
    "collapsed": true
   },
   "outputs": [],
   "source": [
    "working_dir=os.path.join(git_dir, 'git_example')"
   ]
  },
  {
   "cell_type": "code",
   "execution_count": 7,
   "metadata": {
    "collapsed": false
   },
   "outputs": [],
   "source": [
    "os.chdir(working_dir)"
   ]
  },
  {
   "cell_type": "markdown",
   "metadata": {},
   "source": [
    "##Solo work\n",
    "\n",
    "###Configuring Git with your name and email\n",
    "\n",
    "First, we should configure Git to know our name and email address:"
   ]
  },
  {
   "cell_type": "code",
   "execution_count": 8,
   "metadata": {
    "attributes": {
     "classes": [
      " Bash"
     ],
     "id": ""
    },
    "collapsed": false
   },
   "outputs": [],
   "source": [
    "%%bash\n",
    "git config --global user.name \"James Hetherington\"\n",
    "git config --global user.email \"jamespjh@gmail.com\""
   ]
  },
  {
   "cell_type": "markdown",
   "metadata": {},
   "source": [
    "###Initialising the repository\n",
    "\n",
    "Now, we will tell Git to track the content of this folder as a git \"repository\"."
   ]
  },
  {
   "cell_type": "code",
   "execution_count": 9,
   "metadata": {
    "attributes": {
     "classes": [
      " Bash"
     ],
     "id": ""
    },
    "collapsed": false
   },
   "outputs": [
    {
     "name": "stdout",
     "output_type": "stream",
     "text": [
      "/Users/jamespjh/devel/rsdt/training/rsd-engineeringcourse/session02/learning_git/git_example\n",
      "Initialized empty Git repository in /Users/jamespjh/devel/rsdt/training/rsd-engineeringcourse/session02/learning_git/git_example/.git/\n"
     ]
    }
   ],
   "source": [
    "%%bash\n",
    "pwd # Note where we are standing-- MAKE SURE YOU INITIALISE THE RIGHT FOLDER\n",
    "git init"
   ]
  },
  {
   "cell_type": "markdown",
   "metadata": {},
   "source": [
    "As yet, this repository contains no files:"
   ]
  },
  {
   "cell_type": "code",
   "execution_count": 10,
   "metadata": {
    "collapsed": false
   },
   "outputs": [],
   "source": [
    "%%bash\n",
    "ls"
   ]
  },
  {
   "cell_type": "code",
   "execution_count": 11,
   "metadata": {
    "attributes": {
     "classes": [
      " Bash"
     ],
     "id": ""
    },
    "collapsed": false
   },
   "outputs": [
    {
     "name": "stdout",
     "output_type": "stream",
     "text": [
      "On branch master\n",
      "\n",
      "Initial commit\n",
      "\n",
      "nothing to commit\n"
     ]
    }
   ],
   "source": [
    "%%bash\n",
    "git status"
   ]
  },
  {
   "cell_type": "markdown",
   "metadata": {},
   "source": [
    "###A first example file\n",
    "\n",
    "So let's create an example file, and see how to start to manage a history of changes to it."
   ]
  },
  {
   "cell_type": "markdown",
   "metadata": {},
   "source": [
    "    <my editor> index.md # Type some content into the file."
   ]
  },
  {
   "cell_type": "code",
   "execution_count": 12,
   "metadata": {
    "collapsed": false
   },
   "outputs": [
    {
     "name": "stdout",
     "output_type": "stream",
     "text": [
      "Writing index.md\n"
     ]
    }
   ],
   "source": [
    "%%writefile index.md\n",
    "Mountains in the UK   \n",
    "===================   \n",
    "England is not very mountainous.   \n",
    "But has some tall hills, and maybe a mountain or two depending on your definition.\n"
   ]
  },
  {
   "cell_type": "code",
   "execution_count": 13,
   "metadata": {
    "attributes": {
     "classes": [
      " Bash"
     ],
     "id": ""
    },
    "collapsed": false
   },
   "outputs": [
    {
     "name": "stdout",
     "output_type": "stream",
     "text": [
      "Mountains in the UK   \r\n",
      "===================   \r\n",
      "England is not very mountainous.   \r\n",
      "But has some tall hills, and maybe a mountain or two depending on your definition."
     ]
    }
   ],
   "source": [
    "cat index.md"
   ]
  },
  {
   "cell_type": "markdown",
   "metadata": {},
   "source": [
    "###Telling Git about the File\n",
    "\n",
    "So, let's tell Git that `index.md` is a file which is important, and we would like to keep track of its history:"
   ]
  },
  {
   "cell_type": "code",
   "execution_count": 14,
   "metadata": {
    "attributes": {
     "classes": [
      " Bash"
     ],
     "id": ""
    },
    "collapsed": false
   },
   "outputs": [],
   "source": [
    "%%bash\n",
    "git add index.md"
   ]
  },
  {
   "cell_type": "markdown",
   "metadata": {},
   "source": [
    "Don't forget: Any files in repositories which you want to \"track\" need to be added with `git add` after you create them.\n",
    "\n",
    "###Our first commit\n",
    "\n",
    "Now, we need to tell Git to record the first version of this file in the history of changes:"
   ]
  },
  {
   "cell_type": "code",
   "execution_count": 15,
   "metadata": {
    "attributes": {
     "classes": [
      " Bash"
     ],
     "id": ""
    },
    "collapsed": false
   },
   "outputs": [
    {
     "name": "stdout",
     "output_type": "stream",
     "text": [
      "[master (root-commit) a39325c] First commit of discourse on UK topography\n",
      " 1 file changed, 4 insertions(+)\n",
      " create mode 100644 index.md\n"
     ]
    }
   ],
   "source": [
    "%%bash\n",
    "git commit -m \"First commit of discourse on UK topography\""
   ]
  },
  {
   "cell_type": "markdown",
   "metadata": {},
   "source": [
    "And note the confirmation from Git.\n",
    "\n",
    "There's a lot of output there you can ignore for now."
   ]
  },
  {
   "cell_type": "markdown",
   "metadata": {},
   "source": [
    "###Configuring Git with your editor\n",
    "\n",
    "If you don't type in the log message directly with -m \"Some message\", then an editor will pop up, to allow you\n",
    "to edit your message on the fly."
   ]
  },
  {
   "cell_type": "markdown",
   "metadata": {},
   "source": [
    "For this to work, you have to tell git where to find your editor."
   ]
  },
  {
   "cell_type": "code",
   "execution_count": 16,
   "metadata": {
    "attributes": {
     "classes": [
      " Bash"
     ],
     "id": ""
    },
    "collapsed": true
   },
   "outputs": [],
   "source": [
    "%%bash\n",
    "git config --global core.editor vim "
   ]
  },
  {
   "cell_type": "markdown",
   "metadata": {},
   "source": [
    "You can find out what you currently have with:"
   ]
  },
  {
   "cell_type": "code",
   "execution_count": 17,
   "metadata": {
    "attributes": {
     "classes": [
      " Bash"
     ],
     "id": ""
    },
    "collapsed": false
   },
   "outputs": [
    {
     "name": "stdout",
     "output_type": "stream",
     "text": [
      "vim\n"
     ]
    }
   ],
   "source": [
    "%%bash\n",
    "git config --get core.editor"
   ]
  },
  {
   "cell_type": "markdown",
   "metadata": {},
   "source": [
    "To configure Notepad++ on windows you'll need something like the below, ask a demonstrator to help for your machine."
   ]
  },
  {
   "cell_type": "markdown",
   "metadata": {
    "attributes": {
     "classes": [
      " Bash"
     ],
     "id": ""
    }
   },
   "source": [
    "``` bash\n",
    "git config --global core.editor \"'C:/Program Files (x86)/Notepad++\n",
    "   /notepad++.exe' -multiInst  -nosession -noPlugin\"\n",
    "```"
   ]
  },
  {
   "cell_type": "markdown",
   "metadata": {},
   "source": [
    "I'm going to be using `vim` as my editor, but you can use whatever editor you prefer. (Windows users could use \"Notepad++\", Mac users could use \"textmate\" or \"sublime text\", linux users could use `vim`, `nano` or `emacs`.)"
   ]
  },
  {
   "cell_type": "markdown",
   "metadata": {},
   "source": [
    "###Git log\n",
    "\n",
    "Git now has one change in its history:"
   ]
  },
  {
   "cell_type": "code",
   "execution_count": 18,
   "metadata": {
    "attributes": {
     "classes": [
      " Bash"
     ],
     "id": ""
    },
    "collapsed": false
   },
   "outputs": [
    {
     "name": "stdout",
     "output_type": "stream",
     "text": [
      "\u001b[34mMon Jul 27 16:58:29 2015 +0100\u001b[m \u001b[33ma39325c\u001b[32m (HEAD, master)\u001b[m \u001b[34mFirst commit of discourse on UK topography \u001b[35m [James Hetherington]\u001b[m"
     ]
    }
   ],
   "source": [
    "%%bash\n",
    "git log"
   ]
  },
  {
   "cell_type": "markdown",
   "metadata": {},
   "source": [
    "You can see the commit message, author, and date..."
   ]
  },
  {
   "cell_type": "markdown",
   "metadata": {},
   "source": [
    "###Hash Codes\n",
    "\n",
    "The commit \"hash code\", e.g.\n",
    "\n",
    "`c438f1716b2515563e03e82231acbae7dd4f4656`\n",
    "\n",
    "is a unique identifier of that particular revision. \n",
    "\n",
    "(This is a really long code, but whenever you need to use it, you can just use the first few characters, however many characters is long enough to make it unique, `c438` for example. )"
   ]
  },
  {
   "cell_type": "markdown",
   "metadata": {},
   "source": [
    "###Nothing to see here\n",
    "\n",
    "Note that git will now tell us that our \"working directory\" is up-to-date with the repository: there are no changes to the files that aren't recorded in the repository history:"
   ]
  },
  {
   "cell_type": "code",
   "execution_count": 19,
   "metadata": {
    "attributes": {
     "classes": [
      " Bash"
     ],
     "id": ""
    },
    "collapsed": false
   },
   "outputs": [
    {
     "name": "stdout",
     "output_type": "stream",
     "text": [
      "On branch master\n",
      "nothing to commit, working directory clean\n"
     ]
    }
   ],
   "source": [
    "%%bash\n",
    "git status"
   ]
  },
  {
   "cell_type": "markdown",
   "metadata": {},
   "source": [
    "Let's edit the file again:\n",
    "\n",
    "    vim index.md"
   ]
  },
  {
   "cell_type": "code",
   "execution_count": 20,
   "metadata": {
    "collapsed": false
   },
   "outputs": [
    {
     "name": "stdout",
     "output_type": "stream",
     "text": [
      "Overwriting index.md\n"
     ]
    }
   ],
   "source": [
    "%%writefile index.md\n",
    "Mountains in the UK   \n",
    "===================   \n",
    "England is not very mountainous.   \n",
    "But has some tall hills, and maybe a mountain or two depending on your definition.\n",
    "\n",
    "Mount Fictional, in Barsetshire, U.K. is the tallest mountain in the world.\n"
   ]
  },
  {
   "cell_type": "code",
   "execution_count": 21,
   "metadata": {
    "attributes": {
     "classes": [
      " Bash"
     ],
     "id": ""
    },
    "collapsed": false
   },
   "outputs": [
    {
     "name": "stdout",
     "output_type": "stream",
     "text": [
      "Mountains in the UK   \r\n",
      "===================   \r\n",
      "England is not very mountainous.   \r\n",
      "But has some tall hills, and maybe a mountain or two depending on your definition.\r\n",
      "\r\n",
      "Mount Fictional, in Barsetshire, U.K. is the tallest mountain in the world."
     ]
    }
   ],
   "source": [
    "cat index.md"
   ]
  },
  {
   "cell_type": "markdown",
   "metadata": {},
   "source": [
    "###Unstaged changes"
   ]
  },
  {
   "cell_type": "code",
   "execution_count": 22,
   "metadata": {
    "attributes": {
     "classes": [
      " Bash"
     ],
     "id": ""
    },
    "collapsed": false
   },
   "outputs": [
    {
     "name": "stdout",
     "output_type": "stream",
     "text": [
      "On branch master\n",
      "Changes not staged for commit:\n",
      "\tmodified:   index.md\n",
      "\n",
      "no changes added to commit\n"
     ]
    }
   ],
   "source": [
    "%%bash\n",
    "git status"
   ]
  },
  {
   "cell_type": "markdown",
   "metadata": {},
   "source": [
    "We can now see that there is a change to \"index.md\" which is currently \"not staged for commit\". What does this mean? \n",
    "\n",
    "If we do a `git commit` now *nothing will happen*. \n",
    "\n",
    "Git will only commit changes to files that you choose to include in each commit.\n",
    "\n",
    "This is a difference from other version control systems, where committing will affect all changed files. "
   ]
  },
  {
   "cell_type": "markdown",
   "metadata": {},
   "source": [
    "We can see the differences in the file with:"
   ]
  },
  {
   "cell_type": "code",
   "execution_count": 23,
   "metadata": {
    "collapsed": false
   },
   "outputs": [
    {
     "name": "stdout",
     "output_type": "stream",
     "text": [
      "diff --git i/index.md w/index.md\n",
      "index 4f737f1..263ec81 100644\n",
      "--- i/index.md\n",
      "+++ w/index.md\n",
      "@@ -1,4 +1,6 @@\n",
      " Mountains in the UK   \n",
      " ===================   \n",
      " England is not very mountainous.   \n",
      "-But has some tall hills, and maybe a mountain or two depending on your definition.\n",
      "\\ No newline at end of file\n",
      "+But has some tall hills, and maybe a mountain or two depending on your definition.\n",
      "+\n",
      "+Mount Fictional, in Barsetshire, U.K. is the tallest mountain in the world.\n",
      "\\ No newline at end of file\n"
     ]
    }
   ],
   "source": [
    "%%bash\n",
    "git diff"
   ]
  },
  {
   "cell_type": "markdown",
   "metadata": {},
   "source": [
    "Deleted lines are prefixed with a minus, added lines prefixed with a plus."
   ]
  },
  {
   "cell_type": "markdown",
   "metadata": {},
   "source": [
    "###Staging a file to be included in the next commit\n",
    "\n",
    "To include the file in the next commit, we have a few choices. This is one of the things to be careful of with git: there are lots of ways to do similar things, and it can be hard to keep track of them all."
   ]
  },
  {
   "cell_type": "code",
   "execution_count": 24,
   "metadata": {
    "attributes": {
     "classes": [
      " Bash"
     ],
     "id": ""
    },
    "collapsed": true
   },
   "outputs": [],
   "source": [
    "%%bash\n",
    "git add --update"
   ]
  },
  {
   "cell_type": "markdown",
   "metadata": {},
   "source": [
    "This says \"include in the next commit, all files which have ever been included before\". \n",
    "\n",
    "Note that `git add` is the command we use to introduce git to a new file, but also the command we use to \"stage\" a file to be included in the next commit. "
   ]
  },
  {
   "cell_type": "markdown",
   "metadata": {},
   "source": [
    "###The staging area\n",
    "\n",
    "The \"staging area\" or \"index\" is the git jargon for the place which contains the list of changes which will be included in the next commit.\n",
    "\n",
    "You can include specific changes to specific files with git add, commit them, add some more files, and commit them. (You can even add specific changes within a file to be included in the index.)"
   ]
  },
  {
   "cell_type": "markdown",
   "metadata": {},
   "source": [
    "###Message Sequence Charts"
   ]
  },
  {
   "cell_type": "markdown",
   "metadata": {},
   "source": [
    "In order to illustrate the behaviour of Git, it will be useful to be able to generate figures in Python\n",
    "of a \"message sequence chart\" flavour."
   ]
  },
  {
   "cell_type": "markdown",
   "metadata": {},
   "source": [
    "There's a nice online tool to do this, called \"Message Sequence Charts\"."
   ]
  },
  {
   "cell_type": "markdown",
   "metadata": {},
   "source": [
    "Have a look at https://www.websequencediagrams.com"
   ]
  },
  {
   "cell_type": "markdown",
   "metadata": {},
   "source": [
    "Instead of just showing you these diagrams, I'm showing you in this notebook how I make them."
   ]
  },
  {
   "cell_type": "markdown",
   "metadata": {},
   "source": [
    "Here's some quick code in the Notebook to download and display an MSC illustration, using the Web Sequence Diagrams API:"
   ]
  },
  {
   "cell_type": "code",
   "execution_count": 25,
   "metadata": {
    "collapsed": false
   },
   "outputs": [],
   "source": [
    "import requests\n",
    "import re\n",
    "import IPython\n",
    "%matplotlib inline\n",
    "\n",
    "def wsd(code):\n",
    "    response = requests.post(\"http://www.websequencediagrams.com/index.php\", data={\n",
    "            'message': code,\n",
    "            'apiVersion': 1,\n",
    "        })\n",
    "    expr = re.compile(\"(\\?(img|pdf|png|svg)=[a-zA-Z0-9]+)\")\n",
    "    m = expr.search(response.text)\n",
    "    if m == None:\n",
    "        print \"Invalid response from server.\"\n",
    "        return False\n",
    "                            \n",
    "    image=requests.get(\"http://www.websequencediagrams.com/\" + m.group(0))\n",
    "    return IPython.core.display.Image(image.content)"
   ]
  },
  {
   "cell_type": "code",
   "execution_count": 26,
   "metadata": {
    "collapsed": false
   },
   "outputs": [
    {
     "data": {
      "image/png": "[encoded data removed]",
      "text/plain": [
       "<IPython.core.display.Image object>"
      ]
     },
     "execution_count": 26,
     "metadata": {},
     "output_type": "execute_result"
    }
   ],
   "source": [
    "wsd(\"Sender->Recipient: Hello\\n Recipient->Sender: Message received OK\")"
   ]
  },
  {
   "cell_type": "markdown",
   "metadata": {},
   "source": [
    "###The Levels of Git"
   ]
  },
  {
   "cell_type": "markdown",
   "metadata": {},
   "source": [
    "Let's make ourselves a sequence chart to show the different aspects of Git we've seen so far:"
   ]
  },
  {
   "cell_type": "code",
   "execution_count": 27,
   "metadata": {
    "collapsed": false
   },
   "outputs": [
    {
     "data": {
      "image/png": "[encoded data removed]",
      "text/plain": [
       "<IPython.core.display.Image object>"
      ]
     },
     "execution_count": 27,
     "metadata": {},
     "output_type": "execute_result"
    }
   ],
   "source": [
    "message=\"\"\"\n",
    "Working Directory -> Staging Area : git add\n",
    "Staging Area -> Local Repository : git commit\n",
    "Working Directory -> Local Repository : git commit -a\n",
    "\"\"\"\n",
    "wsd(message)"
   ]
  },
  {
   "cell_type": "markdown",
   "metadata": {},
   "source": [
    "###Review of status"
   ]
  },
  {
   "cell_type": "code",
   "execution_count": 28,
   "metadata": {
    "attributes": {
     "classes": [
      " Bash"
     ],
     "id": ""
    },
    "collapsed": false
   },
   "outputs": [
    {
     "name": "stdout",
     "output_type": "stream",
     "text": [
      "On branch master\n",
      "Changes to be committed:\n",
      "\tmodified:   index.md\n",
      "\n"
     ]
    }
   ],
   "source": [
    "%%bash\n",
    "git status"
   ]
  },
  {
   "cell_type": "code",
   "execution_count": 29,
   "metadata": {
    "collapsed": false
   },
   "outputs": [
    {
     "name": "stdout",
     "output_type": "stream",
     "text": [
      "[master b799ca5] Add a lie about a mountain\n",
      " 1 file changed, 3 insertions(+), 1 deletion(-)\n"
     ]
    }
   ],
   "source": [
    "%%bash\n",
    "git commit -m \"Add a lie about a mountain\""
   ]
  },
  {
   "cell_type": "code",
   "execution_count": 30,
   "metadata": {
    "attributes": {
     "classes": [
      " Bash"
     ],
     "id": ""
    },
    "collapsed": false
   },
   "outputs": [
    {
     "name": "stdout",
     "output_type": "stream",
     "text": [
      "\u001b[34mMon Jul 27 16:58:31 2015 +0100\u001b[m \u001b[33mb799ca5\u001b[32m (HEAD, master)\u001b[m \u001b[34mAdd a lie about a mountain \u001b[35m [James Hetherington]\u001b[m\n",
      "\u001b[34mMon Jul 27 16:58:29 2015 +0100\u001b[m \u001b[33ma39325c\u001b[32m\u001b[m \u001b[34mFirst commit of discourse on UK topography \u001b[35m [James Hetherington]\u001b[m"
     ]
    }
   ],
   "source": [
    "%%bash\n",
    "git log"
   ]
  },
  {
   "cell_type": "markdown",
   "metadata": {},
   "source": [
    "Great, we now have a file which contains a mistake."
   ]
  },
  {
   "cell_type": "markdown",
   "metadata": {},
   "source": [
    "###Carry on regardless\n",
    "\n",
    "In a while, we'll use Git to roll back to the last correct version: this is one of the main reasons we wanted to use version control, after all! But for now, let's do just as we would if we were writing code, not notice our mistake and keep working..."
   ]
  },
  {
   "cell_type": "markdown",
   "metadata": {},
   "source": [
    "```bash\n",
    "vim index.md\n",
    "```"
   ]
  },
  {
   "cell_type": "code",
   "execution_count": 31,
   "metadata": {
    "collapsed": false
   },
   "outputs": [
    {
     "name": "stdout",
     "output_type": "stream",
     "text": [
      "Overwriting index.md\n"
     ]
    }
   ],
   "source": [
    "%%writefile index.md\n",
    "Mountains and Hills in the UK   \n",
    "===================   \n",
    "England is not very mountainous.   \n",
    "But has some tall hills, and maybe a mountain or two depending on your definition.\n",
    "\n",
    "Mount Fictional, in Barsetshire, U.K. is the tallest mountain in the world.\n"
   ]
  },
  {
   "cell_type": "code",
   "execution_count": 32,
   "metadata": {
    "attributes": {
     "classes": [
      " Bash"
     ],
     "id": ""
    },
    "collapsed": false
   },
   "outputs": [
    {
     "name": "stdout",
     "output_type": "stream",
     "text": [
      "Mountains and Hills in the UK   \r\n",
      "===================   \r\n",
      "England is not very mountainous.   \r\n",
      "But has some tall hills, and maybe a mountain or two depending on your definition.\r\n",
      "\r\n",
      "Mount Fictional, in Barsetshire, U.K. is the tallest mountain in the world."
     ]
    }
   ],
   "source": [
    "cat index.md"
   ]
  },
  {
   "cell_type": "markdown",
   "metadata": {},
   "source": [
    "###Commit with a built-in-add"
   ]
  },
  {
   "cell_type": "code",
   "execution_count": 33,
   "metadata": {
    "collapsed": false
   },
   "outputs": [
    {
     "name": "stdout",
     "output_type": "stream",
     "text": [
      "[master ffa72a4] Change title\n",
      " 1 file changed, 1 insertion(+), 1 deletion(-)\n"
     ]
    }
   ],
   "source": [
    "%%bash\n",
    "git commit -am \"Change title\""
   ]
  },
  {
   "cell_type": "markdown",
   "metadata": {},
   "source": [
    "This last command, `git commit -a` automatically adds changes to all tracked files to the staging area, as part of the commit command. So, if you never want to just add changes to some tracked files but not others, you can just use this and forget about the staging area!"
   ]
  },
  {
   "cell_type": "code",
   "execution_count": 34,
   "metadata": {
    "collapsed": true
   },
   "outputs": [],
   "source": [
    "###Review of changes"
   ]
  },
  {
   "cell_type": "code",
   "execution_count": 35,
   "metadata": {
    "attributes": {
     "classes": [
      " Bash"
     ],
     "id": ""
    },
    "collapsed": false
   },
   "outputs": [
    {
     "name": "stdout",
     "output_type": "stream",
     "text": [
      "\u001b[34mMon Jul 27 16:58:32 2015 +0100\u001b[m \u001b[33mffa72a4\u001b[32m (HEAD, master)\u001b[m \u001b[34mChange title \u001b[35m [James Hetherington]\u001b[m\n",
      "\u001b[34mMon Jul 27 16:58:31 2015 +0100\u001b[m \u001b[33mb799ca5\u001b[32m\u001b[m \u001b[34mAdd a lie about a mountain \u001b[35m [James Hetherington]\u001b[m\n",
      "\u001b[34mMon Jul 27 16:58:29 2015 +0100\u001b[m \u001b[33ma39325c\u001b[32m\u001b[m \u001b[34mFirst commit of discourse on UK topography \u001b[35m [James Hetherington]\u001b[m"
     ]
    }
   ],
   "source": [
    "%%bash\n",
    "git log | head"
   ]
  },
  {
   "cell_type": "markdown",
   "metadata": {},
   "source": [
    "We now have three changes in the history:"
   ]
  },
  {
   "cell_type": "code",
   "execution_count": 36,
   "metadata": {
    "attributes": {
     "classes": [
      " Bash"
     ],
     "id": ""
    },
    "collapsed": false
   },
   "outputs": [
    {
     "name": "stdout",
     "output_type": "stream",
     "text": [
      "ffa72a4 Change title\n",
      "b799ca5 Add a lie about a mountain\n",
      "a39325c First commit of discourse on UK topography\n"
     ]
    }
   ],
   "source": [
    "%%bash\n",
    "git log --oneline"
   ]
  },
  {
   "cell_type": "markdown",
   "metadata": {},
   "source": [
    "###Git Solo Workflow"
   ]
  },
  {
   "cell_type": "markdown",
   "metadata": {},
   "source": [
    "We can make a diagram that summarises the above story:"
   ]
  },
  {
   "cell_type": "code",
   "execution_count": 37,
   "metadata": {
    "collapsed": false
   },
   "outputs": [
    {
     "data": {
      "image/png": "[encoded data removed]",
      "text/plain": [
       "<IPython.core.display.Image object>"
      ]
     },
     "execution_count": 37,
     "metadata": {},
     "output_type": "execute_result"
    }
   ],
   "source": [
    "message=\"\"\"\n",
    "participant \"Jim's repo\" as R\n",
    "participant \"Jim's index\" as I\n",
    "participant Jim as J\n",
    "\n",
    "note right of J: vim index.md\n",
    "\n",
    "note right of J: git init\n",
    "J->I: create\n",
    "J>R: create\n",
    "\n",
    "note right of J: git add index.md\n",
    "\n",
    "J->I: Add content of index.md\n",
    "\n",
    "note right of J: git commit\n",
    "J->R: Commit content of index.md\n",
    "\n",
    "note right of J:  vim index.md\n",
    "\n",
    "note right of J: git add --update\n",
    "J->I: Add content of index.md\n",
    "note right of J: git commit -m \"Add a lie\"\n",
    "I->R: Commit change to index.md\n",
    "\n",
    "note right of J:  vim index.md\n",
    "note right of J: git commit -am \"Change title\"\n",
    "J->I: Add content of index.md\n",
    "J->R: Commit change to index.md\n",
    "\n",
    "\"\"\"\n",
    "wsd(message)"
   ]
  },
  {
   "cell_type": "markdown",
   "metadata": {},
   "source": [
    "###Referring to changes with HEAD and ^\n",
    "\n",
    "The commit we want to revert to is the one before the latest.\n",
    "\n",
    "`HEAD^` refers to the commit before the \"head\", which is the latest change. That is, we want to go back to the change before the current one. \n",
    "\n",
    "We could have used the hash code to reference this, but you can also refer to the commit before the `HEAD` as `HEAD^`, the one before that as `HEAD^^`, the one before that as `HEAD~3`. We could also refer to it with the hash code, e.g. 73fbeaf"
   ]
  },
  {
   "cell_type": "markdown",
   "metadata": {},
   "source": [
    "###Reverting\n",
    " \n",
    "Ok, so now we'd like to undo the nasty commit with the lie about Mount Fictional."
   ]
  },
  {
   "cell_type": "code",
   "execution_count": 38,
   "metadata": {
    "collapsed": false
   },
   "outputs": [
    {
     "name": "stdout",
     "output_type": "stream",
     "text": [
      "[master 523bace] Revert \"Add a lie about a mountain\"\n",
      " 1 file changed, 1 insertion(+), 3 deletions(-)\n"
     ]
    }
   ],
   "source": [
    "%%bash\n",
    "git revert HEAD^"
   ]
  },
  {
   "cell_type": "markdown",
   "metadata": {},
   "source": [
    "A commit may pop up, with some default text which you can accept and save. "
   ]
  },
  {
   "cell_type": "markdown",
   "metadata": {},
   "source": [
    "###Conflicted reverts\n",
    "\n",
    "You may, depending on the changes you've tried to make, get an error message here. \n",
    "\n",
    "If this happens, it is because git could not automagically decide how to combine the change you made after the change you want to revert, with the attempt to revert the change: this could happen, for example, if they both touch the same line. \n",
    "\n",
    "If that happens, you need to manually edit the file to fix the problem. Skip ahead to the section on resolving conflicts, or ask a demonstrator to help."
   ]
  },
  {
   "cell_type": "markdown",
   "metadata": {},
   "source": [
    "###Review of changes\n",
    "\n",
    "The file should now contain the change to the title, but not the extra line with the lie. Note the log:"
   ]
  },
  {
   "cell_type": "code",
   "execution_count": 39,
   "metadata": {
    "collapsed": false
   },
   "outputs": [
    {
     "name": "stdout",
     "output_type": "stream",
     "text": [
      "\u001b[34mMon Jul 27 16:58:32 2015 +0100\u001b[m \u001b[33m523bace\u001b[32m (HEAD, master)\u001b[m \u001b[34mRevert \"Add a lie about a mountain\" \u001b[35m [James Hetherington]\u001b[m\n",
      "\u001b[34mMon Jul 27 16:58:32 2015 +0100\u001b[m \u001b[33mffa72a4\u001b[32m\u001b[m \u001b[34mChange title \u001b[35m [James Hetherington]\u001b[m\n",
      "\u001b[34mMon Jul 27 16:58:31 2015 +0100\u001b[m \u001b[33mb799ca5\u001b[32m\u001b[m \u001b[34mAdd a lie about a mountain \u001b[35m [James Hetherington]\u001b[m\n",
      "\u001b[34mMon Jul 27 16:58:29 2015 +0100\u001b[m \u001b[33ma39325c\u001b[32m\u001b[m \u001b[34mFirst commit of discourse on UK topography \u001b[35m [James Hetherington]\u001b[m"
     ]
    }
   ],
   "source": [
    "%%bash\n",
    "git log"
   ]
  },
  {
   "cell_type": "markdown",
   "metadata": {},
   "source": [
    "###Antipatch\n",
    "\n",
    "Notice how the mistake has stayed in the history.\n",
    "\n",
    "There is a new commit which undoes the change: this is colloquially called an \"antipatch\". \n",
    "This is nice: you have a record of the full story, including the mistake and its correction."
   ]
  },
  {
   "cell_type": "markdown",
   "metadata": {},
   "source": [
    "###Rewriting history\n",
    "\n",
    "It is possible, in git, to remove the most recent change altogether, \"rewriting history\". Let's make another bad change, and see how to do this."
   ]
  },
  {
   "cell_type": "markdown",
   "metadata": {},
   "source": [
    "###A new lie"
   ]
  },
  {
   "cell_type": "code",
   "execution_count": 40,
   "metadata": {
    "collapsed": false
   },
   "outputs": [
    {
     "name": "stdout",
     "output_type": "stream",
     "text": [
      "Overwriting index.md\n"
     ]
    }
   ],
   "source": [
    "%%writefile index.md\n",
    "Mountains and Hills in the UK   \n",
    "===================   \n",
    "Engerland is not very mountainous.   \n",
    "But has some tall hills, and maybe a mountain or two depending on your definition.\n"
   ]
  },
  {
   "cell_type": "code",
   "execution_count": 41,
   "metadata": {
    "attributes": {
     "classes": [
      " Bash"
     ],
     "id": ""
    },
    "collapsed": false
   },
   "outputs": [
    {
     "name": "stdout",
     "output_type": "stream",
     "text": [
      "Mountains and Hills in the UK   \n",
      "===================   \n",
      "Engerland is not very mountainous.   \n",
      "But has some tall hills, and maybe a mountain or two depending on your definition."
     ]
    }
   ],
   "source": [
    "%%bash\n",
    "cat index.md"
   ]
  },
  {
   "cell_type": "code",
   "execution_count": 42,
   "metadata": {
    "collapsed": false
   },
   "outputs": [
    {
     "name": "stdout",
     "output_type": "stream",
     "text": [
      "diff --git i/index.md w/index.md\n",
      "index bb12a24..304eea2 100644\n",
      "--- i/index.md\n",
      "+++ w/index.md\n",
      "@@ -1,4 +1,4 @@\n",
      " Mountains and Hills in the UK   \n",
      " ===================   \n",
      "-England is not very mountainous.   \n",
      "+Engerland is not very mountainous.   \n",
      " But has some tall hills, and maybe a mountain or two depending on your definition.\n",
      "\\ No newline at end of file\n"
     ]
    }
   ],
   "source": [
    "%%bash\n",
    "git diff"
   ]
  },
  {
   "cell_type": "code",
   "execution_count": 43,
   "metadata": {
    "collapsed": false
   },
   "outputs": [
    {
     "name": "stdout",
     "output_type": "stream",
     "text": [
      "[master 0989d6d] Add a silly spelling\n",
      " 1 file changed, 1 insertion(+), 1 deletion(-)\n"
     ]
    }
   ],
   "source": [
    "%%bash\n",
    "git commit -am \"Add a silly spelling\""
   ]
  },
  {
   "cell_type": "code",
   "execution_count": 44,
   "metadata": {
    "attributes": {
     "classes": [
      " Bash"
     ],
     "id": ""
    },
    "collapsed": false
   },
   "outputs": [
    {
     "name": "stdout",
     "output_type": "stream",
     "text": [
      "\u001b[34mMon Jul 27 16:58:32 2015 +0100\u001b[m \u001b[33m0989d6d\u001b[32m (HEAD, master)\u001b[m \u001b[34mAdd a silly spelling \u001b[35m [James Hetherington]\u001b[m\n",
      "\u001b[34mMon Jul 27 16:58:32 2015 +0100\u001b[m \u001b[33m523bace\u001b[32m\u001b[m \u001b[34mRevert \"Add a lie about a mountain\" \u001b[35m [James Hetherington]\u001b[m\n",
      "\u001b[34mMon Jul 27 16:58:32 2015 +0100\u001b[m \u001b[33mffa72a4\u001b[32m\u001b[m \u001b[34mChange title \u001b[35m [James Hetherington]\u001b[m\n",
      "\u001b[34mMon Jul 27 16:58:31 2015 +0100\u001b[m \u001b[33mb799ca5\u001b[32m\u001b[m \u001b[34mAdd a lie about a mountain \u001b[35m [James Hetherington]\u001b[m\n",
      "\u001b[34mMon Jul 27 16:58:29 2015 +0100\u001b[m \u001b[33ma39325c\u001b[32m\u001b[m \u001b[34mFirst commit of discourse on UK topography \u001b[35m [James Hetherington]\u001b[m"
     ]
    }
   ],
   "source": [
    "%%bash\n",
    "git log | head"
   ]
  },
  {
   "cell_type": "markdown",
   "metadata": {},
   "source": [
    "###Using reset to rewrite history"
   ]
  },
  {
   "cell_type": "code",
   "execution_count": 45,
   "metadata": {
    "attributes": {
     "classes": [
      " Bash"
     ],
     "id": ""
    },
    "collapsed": false
   },
   "outputs": [
    {
     "name": "stdout",
     "output_type": "stream",
     "text": [
      "Unstaged changes after reset:\n",
      "M\tindex.md\n"
     ]
    }
   ],
   "source": [
    "%%bash\n",
    "git reset HEAD^"
   ]
  },
  {
   "cell_type": "code",
   "execution_count": 46,
   "metadata": {
    "attributes": {
     "classes": [
      " Bash"
     ],
     "id": ""
    },
    "collapsed": false
   },
   "outputs": [
    {
     "name": "stdout",
     "output_type": "stream",
     "text": [
      "523bace Revert \"Add a lie about a mountain\"\n",
      "ffa72a4 Change title\n",
      "b799ca5 Add a lie about a mountain\n",
      "a39325c First commit of discourse on UK topography\n"
     ]
    }
   ],
   "source": [
    "%%bash\n",
    "git log --oneline"
   ]
  },
  {
   "cell_type": "markdown",
   "metadata": {},
   "source": [
    "###Covering your tracks\n",
    "\n",
    "The silly spelling is gone, and *it isn't even in the log*. This approach to fixing mistakes, \"rewriting history\" with `reset`, instead of adding an antipatch with `revert` is dangerous, and we don't recommend it. But you may want to do it for small silly mistakes, such as to correct a commit message."
   ]
  },
  {
   "cell_type": "markdown",
   "metadata": {},
   "source": [
    "###Resetting the working area\n",
    "\n",
    "When git reset removes commits, it leaves your working directory unchanged -- so you can keep the work in the bad change if you want. "
   ]
  },
  {
   "cell_type": "code",
   "execution_count": 47,
   "metadata": {
    "collapsed": false
   },
   "outputs": [
    {
     "name": "stdout",
     "output_type": "stream",
     "text": [
      "Mountains and Hills in the UK   \n",
      "===================   \n",
      "Engerland is not very mountainous.   \n",
      "But has some tall hills, and maybe a mountain or two depending on your definition."
     ]
    }
   ],
   "source": [
    "%%bash\n",
    "cat index.md"
   ]
  },
  {
   "cell_type": "markdown",
   "metadata": {},
   "source": [
    "If you want to lose the change from the working directory as well, you can do `git reset --hard`. \n",
    "\n",
    "I'm going to get rid of the silly spelling, and I didn't do `--hard`, so I'll reset the file from the working directory to be the same as in the index:"
   ]
  },
  {
   "cell_type": "code",
   "execution_count": 48,
   "metadata": {
    "attributes": {
     "classes": [
      " Bash"
     ],
     "id": ""
    },
    "collapsed": true
   },
   "outputs": [],
   "source": [
    "%%bash\n",
    "git checkout index.md"
   ]
  },
  {
   "cell_type": "code",
   "execution_count": 49,
   "metadata": {
    "collapsed": false
   },
   "outputs": [
    {
     "name": "stdout",
     "output_type": "stream",
     "text": [
      "Mountains and Hills in the UK   \n",
      "===================   \n",
      "England is not very mountainous.   \n",
      "But has some tall hills, and maybe a mountain or two depending on your definition."
     ]
    }
   ],
   "source": [
    "%%bash\n",
    "cat index.md"
   ]
  },
  {
   "cell_type": "markdown",
   "metadata": {},
   "source": [
    "We can add this to our diagram:"
   ]
  },
  {
   "cell_type": "code",
   "execution_count": 50,
   "metadata": {
    "collapsed": false
   },
   "outputs": [
    {
     "data": {
      "image/png": "[encoded data removed]",
      "text/plain": [
       "<IPython.core.display.Image object>"
      ]
     },
     "execution_count": 50,
     "metadata": {},
     "output_type": "execute_result"
    }
   ],
   "source": [
    "message=\"\"\"\n",
    "Working Directory -> Staging Area : git add\n",
    "Staging Area -> Local Repository : git commit\n",
    "Working Directory -> Local Repository : git commit -a\n",
    "Staging Area -> Working Directory : git checkout\n",
    "Local Repository -> Staging Area : git reset\n",
    "Local Repository -> Working Directory: git reset --hard\n",
    "\"\"\"\n",
    "wsd(message)"
   ]
  },
  {
   "cell_type": "markdown",
   "metadata": {},
   "source": [
    "Add add it to Jim's story:"
   ]
  },
  {
   "cell_type": "code",
   "execution_count": 51,
   "metadata": {
    "collapsed": false
   },
   "outputs": [
    {
     "data": {
      "image/png": "[encoded data removed]",
      "text/plain": [
       "<IPython.core.display.Image object>"
      ]
     },
     "execution_count": 51,
     "metadata": {},
     "output_type": "execute_result"
    }
   ],
   "source": [
    "message=\"\"\"\n",
    "participant \"Jim's repo\" as R\n",
    "participant \"Jim's index\" as I\n",
    "participant Jim as J\n",
    "\n",
    "note right of J: git revert HEAD^\n",
    "\n",
    "J->R: Add new commit reversing change\n",
    "R->I: update staging area to reverted version\n",
    "I->J: update file to reverted version\n",
    "\n",
    "\n",
    "\n",
    "note right of J: vim index.md\n",
    "note right of J: git commit -am \"Add another mistake\"\n",
    "J->I: Add mistake\n",
    "I->R: Add mistake\n",
    "\n",
    "note right of J: git reset HEAD^\n",
    "\n",
    "J->R: Delete mistaken commit\n",
    "R->I: Update staging area to reset commit\n",
    "\n",
    "note right of J: git checkout index.md\n",
    "\n",
    "I->J: Update file to reverted version\n",
    "\n",
    "\n",
    "\"\"\"\n",
    "wsd(message)"
   ]
  },
  {
   "cell_type": "markdown",
   "metadata": {},
   "source": [
    "##Publishing"
   ]
  },
  {
   "cell_type": "markdown",
   "metadata": {},
   "source": [
    "###Sharing your work"
   ]
  },
  {
   "cell_type": "markdown",
   "metadata": {},
   "source": [
    "So far, all our work has been on our own computer. But a big part of the point of version control is keeping your work safe, on remote servers. Another part is making it easy to share your work with the world In this example, we'll be using the \"GitHub\" cloud repository to store and publish our work. \n",
    "\n",
    "If you have not done so already, you should create an account on GitHub: go to [https://github.com/](https://github.com/), fill in a username and password, and click on \"sign up for free\". "
   ]
  },
  {
   "cell_type": "markdown",
   "metadata": {},
   "source": [
    "###Creating a repository\n",
    "\n",
    "Ok, let's create a repository to store our work. Hit \"new repository\" on the right of the github home screen, or click [here](https://github.com/new). \n",
    "\n",
    "Fill in a short name, and a description. Choose a \"public\" repository. Don't choose to add a Readme."
   ]
  },
  {
   "cell_type": "markdown",
   "metadata": {},
   "source": [
    "###Paying for GitHub\n",
    "\n",
    "For this software carpentry course, you should use public repositories in your personal account for your example work: it's good to share! GitHub is free for open source, but in general, charges a fee if you want to keep your work private. \n",
    "\n",
    "In the future, you might want to keep your work on GitHub private. \n",
    "\n",
    "Students can get free private repositories on GitHub, by going to [https://github.com/edu] and filling in a form. \n",
    "\n",
    "UCL pays for private GitHub repositories for UCL research groups: you can find the service details on our [web page](../../infrastructure/github.html)."
   ]
  },
  {
   "cell_type": "markdown",
   "metadata": {},
   "source": [
    "###Adding a new remote to your repository\n",
    "\n",
    "Instructions will appear, once you've created the repository, as to how to add this new \"remote\" server to your repository, in the lower box on the screen. Mine say:"
   ]
  },
  {
   "cell_type": "code",
   "execution_count": 52,
   "metadata": {
    "collapsed": true
   },
   "outputs": [],
   "source": [
    "%%bash\n",
    "git remote add origin git@github.com:UCL/github-example.git"
   ]
  },
  {
   "cell_type": "code",
   "execution_count": 53,
   "metadata": {
    "attributes": {
     "classes": [
      "Bash"
     ],
     "id": ""
    },
    "collapsed": false
   },
   "outputs": [
    {
     "name": "stdout",
     "output_type": "stream",
     "text": [
      "Branch master set up to track remote branch master from origin.\n"
     ]
    },
    {
     "name": "stderr",
     "output_type": "stream",
     "text": [
      "To git@github.com:UCL/github-example.git\n",
      " + 0bc817f...523bace master -> master (forced update)\n"
     ]
    }
   ],
   "source": [
    "%%bash\n",
    "git push -uf origin master # I have an extra `f` switch here. You should copy the instructions from YOUR repository."
   ]
  },
  {
   "cell_type": "markdown",
   "metadata": {},
   "source": [
    "###Remotes\n",
    "\n",
    "The first command sets up the server as a new `remote`, called `origin`. \n",
    "\n",
    "Git, unlike some earlier version control systems is a \"distributed\" version control system, which means you can work with multiple remote servers. \n",
    "\n",
    "Usually, commands that work with remotes allow you to specify the remote to use, but assume the `origin` remote if you don't. \n",
    "\n",
    "Here, `git push` will push your whole history onto the server, and now you'll be able to see it on the internet! Refresh your web browser where the instructions were, and you'll see your repository!"
   ]
  },
  {
   "cell_type": "markdown",
   "metadata": {},
   "source": [
    "Let's add these commands to our diagram:"
   ]
  },
  {
   "cell_type": "code",
   "execution_count": 54,
   "metadata": {
    "collapsed": false
   },
   "outputs": [
    {
     "data": {
      "image/png": "[encoded data removed]",
      "text/plain": [
       "<IPython.core.display.Image object>"
      ]
     },
     "execution_count": 54,
     "metadata": {},
     "output_type": "execute_result"
    }
   ],
   "source": [
    "message=\"\"\"\n",
    "Working Directory -> Staging Area : git add\n",
    "Staging Area -> Local Repository : git commit\n",
    "Working Directory -> Local Repository : git commit -a\n",
    "Staging Area -> Working Directory : git checkout\n",
    "Local Repository -> Staging Area : git reset\n",
    "Local Repository -> Working Directory: git reset --hard\n",
    "Local Repository -> Remote Repository : git push\n",
    "\"\"\"\n",
    "wsd(message)"
   ]
  },
  {
   "cell_type": "markdown",
   "metadata": {},
   "source": [
    "###Playing with GitHub\n",
    "\n",
    "Take a few moments to click around and work your way through the GitHub interface. Try clicking on 'index.md' to see the content of the file: notice how the markdown renders prettily.\n",
    "\n",
    "Click on \"commits\" near the top of the screen, to see all the changes you've made. Click on the commit number next to the right of a change, to see what changes it includes: removals are shown in red, and additions in green."
   ]
  },
  {
   "cell_type": "markdown",
   "metadata": {},
   "source": [
    "##Working with multiple files"
   ]
  },
  {
   "cell_type": "markdown",
   "metadata": {},
   "source": [
    "###Some new content\n",
    "\n",
    "So far, we've only worked with one file. Let's add another:"
   ]
  },
  {
   "cell_type": "markdown",
   "metadata": {},
   "source": [
    "``` bash\n",
    "vim lakeland.md\n",
    "```"
   ]
  },
  {
   "cell_type": "code",
   "execution_count": 55,
   "metadata": {
    "collapsed": false
   },
   "outputs": [
    {
     "name": "stdout",
     "output_type": "stream",
     "text": [
      "Writing lakeland.md\n"
     ]
    }
   ],
   "source": [
    "%%writefile lakeland.md\n",
    "Lakeland  \n",
    "========   \n",
    "  \n",
    "Cumbria has some pretty hills, and lakes too.  "
   ]
  },
  {
   "cell_type": "code",
   "execution_count": 56,
   "metadata": {
    "attributes": {
     "classes": [
      " Bash"
     ],
     "id": ""
    },
    "collapsed": false
   },
   "outputs": [
    {
     "name": "stdout",
     "output_type": "stream",
     "text": [
      "Lakeland  \r\n",
      "========   \r\n",
      "  \r\n",
      "Cumbria has some pretty hills, and lakes too.  "
     ]
    }
   ],
   "source": [
    "cat lakeland.md"
   ]
  },
  {
   "cell_type": "markdown",
   "metadata": {},
   "source": [
    "###Git will not by default commit your new file"
   ]
  },
  {
   "cell_type": "code",
   "execution_count": 57,
   "metadata": {
    "attributes": {
     "classes": [
      " Bash"
     ],
     "id": ""
    },
    "collapsed": false
   },
   "outputs": [
    {
     "name": "stdout",
     "output_type": "stream",
     "text": [
      "On branch master\n",
      "Your branch is up-to-date with 'origin/master'.\n",
      "Untracked files:\n",
      "\tlakeland.md\n",
      "\n",
      "nothing added to commit but untracked files present\n"
     ]
    }
   ],
   "source": [
    "%%bash\n",
    "git commit -am \"Try to add Lakeland\""
   ]
  },
  {
   "cell_type": "markdown",
   "metadata": {},
   "source": [
    "This didn't do anything, because we've not told git to track the new file yet."
   ]
  },
  {
   "cell_type": "markdown",
   "metadata": {},
   "source": [
    "###Tell git about the new file"
   ]
  },
  {
   "cell_type": "code",
   "execution_count": 58,
   "metadata": {
    "attributes": {
     "classes": [
      " Bash"
     ],
     "id": ""
    },
    "collapsed": false
   },
   "outputs": [
    {
     "name": "stdout",
     "output_type": "stream",
     "text": [
      "[master 7525ea9] Add lakeland\n",
      " 1 file changed, 4 insertions(+)\n",
      " create mode 100644 lakeland.md\n"
     ]
    }
   ],
   "source": [
    "%%bash\n",
    "git add lakeland.md\n",
    "git commit -am \"Add lakeland\""
   ]
  },
  {
   "cell_type": "markdown",
   "metadata": {},
   "source": [
    "Ok, now we have added the change about Cumbria to the file. Let's publish it to the origin repository."
   ]
  },
  {
   "cell_type": "code",
   "execution_count": 59,
   "metadata": {
    "attributes": {
     "classes": [
      " Bash"
     ],
     "id": ""
    },
    "collapsed": false
   },
   "outputs": [
    {
     "name": "stderr",
     "output_type": "stream",
     "text": [
      "To git@github.com:UCL/github-example.git\n",
      "   523bace..7525ea9  master -> master\n"
     ]
    }
   ],
   "source": [
    "%%bash\n",
    "git push"
   ]
  },
  {
   "cell_type": "markdown",
   "metadata": {},
   "source": [
    "Visit GitHub, and notice this change is on your repository on the server. We could have said `git push origin` to specify the remote to use, but origin is the default."
   ]
  },
  {
   "cell_type": "markdown",
   "metadata": {},
   "source": [
    "## Changing two files at once"
   ]
  },
  {
   "cell_type": "markdown",
   "metadata": {},
   "source": [
    "What if we change both files?"
   ]
  },
  {
   "cell_type": "code",
   "execution_count": 60,
   "metadata": {
    "collapsed": false
   },
   "outputs": [
    {
     "name": "stdout",
     "output_type": "stream",
     "text": [
      "Overwriting lakeland.md\n"
     ]
    }
   ],
   "source": [
    "%%writefile lakeland.md\n",
    "Lakeland  \n",
    "========   \n",
    "  \n",
    "Cumbria has some pretty hills, and lakes too\n",
    "\n",
    "Mountains:\n",
    "* Helvellyn"
   ]
  },
  {
   "cell_type": "code",
   "execution_count": 61,
   "metadata": {
    "collapsed": false
   },
   "outputs": [
    {
     "name": "stdout",
     "output_type": "stream",
     "text": [
      "Overwriting index.md\n"
     ]
    }
   ],
   "source": [
    "%%writefile index.md\n",
    "Mountains and Lakes in the UK   \n",
    "===================   \n",
    "Engerland is not very mountainous.\n",
    "But has some tall hills, and maybe a mountain or two depending on your definition."
   ]
  },
  {
   "cell_type": "code",
   "execution_count": 62,
   "metadata": {
    "collapsed": false
   },
   "outputs": [
    {
     "name": "stdout",
     "output_type": "stream",
     "text": [
      "On branch master\n",
      "Your branch is up-to-date with 'origin/master'.\n",
      "Changes not staged for commit:\n",
      "\tmodified:   index.md\n",
      "\tmodified:   lakeland.md\n",
      "\n",
      "no changes added to commit\n"
     ]
    }
   ],
   "source": [
    "%%bash\n",
    "git status"
   ]
  },
  {
   "cell_type": "markdown",
   "metadata": {},
   "source": [
    "These changes should really be separate commits. We can do this with careful use of git add, to **stage** first one commit, then the other."
   ]
  },
  {
   "cell_type": "code",
   "execution_count": 63,
   "metadata": {
    "collapsed": false
   },
   "outputs": [
    {
     "name": "stdout",
     "output_type": "stream",
     "text": [
      "[master 8ebfe89] Include lakes in the scope\n",
      " 1 file changed, 2 insertions(+), 2 deletions(-)\n"
     ]
    }
   ],
   "source": [
    "%%bash\n",
    "git add index.md\n",
    "git commit -m \"Include lakes in the scope\""
   ]
  },
  {
   "cell_type": "markdown",
   "metadata": {},
   "source": [
    "Because we \"staged\" only index.md, the changes to lakeland.md were not included in that commit."
   ]
  },
  {
   "cell_type": "code",
   "execution_count": 64,
   "metadata": {
    "collapsed": false
   },
   "outputs": [
    {
     "name": "stdout",
     "output_type": "stream",
     "text": [
      "[master 6e1f668] Add Helvellyn\n",
      " 1 file changed, 4 insertions(+), 1 deletion(-)\n"
     ]
    }
   ],
   "source": [
    "%%bash\n",
    "git commit -am \"Add Helvellyn\""
   ]
  },
  {
   "cell_type": "code",
   "execution_count": 65,
   "metadata": {
    "collapsed": false
   },
   "outputs": [
    {
     "name": "stdout",
     "output_type": "stream",
     "text": [
      "\u001b[34mMon Jul 27 16:58:37 2015 +0100\u001b[m \u001b[33m6e1f668\u001b[32m (HEAD, master)\u001b[m \u001b[34mAdd Helvellyn \u001b[35m [James Hetherington]\u001b[m\n",
      "\u001b[34mMon Jul 27 16:58:37 2015 +0100\u001b[m \u001b[33m8ebfe89\u001b[32m\u001b[m \u001b[34mInclude lakes in the scope \u001b[35m [James Hetherington]\u001b[m\n",
      "\u001b[34mMon Jul 27 16:58:36 2015 +0100\u001b[m \u001b[33m7525ea9\u001b[32m (origin/master)\u001b[m \u001b[34mAdd lakeland \u001b[35m [James Hetherington]\u001b[m\n",
      "\u001b[34mMon Jul 27 16:58:32 2015 +0100\u001b[m \u001b[33m523bace\u001b[32m\u001b[m \u001b[34mRevert \"Add a lie about a mountain\" \u001b[35m [James Hetherington]\u001b[m\n",
      "\u001b[34mMon Jul 27 16:58:32 2015 +0100\u001b[m \u001b[33mffa72a4\u001b[32m\u001b[m \u001b[34mChange title \u001b[35m [James Hetherington]\u001b[m\n",
      "\u001b[34mMon Jul 27 16:58:31 2015 +0100\u001b[m \u001b[33mb799ca5\u001b[32m\u001b[m \u001b[34mAdd a lie about a mountain \u001b[35m [James Hetherington]\u001b[m\n",
      "\u001b[34mMon Jul 27 16:58:29 2015 +0100\u001b[m \u001b[33ma39325c\u001b[32m\u001b[m \u001b[34mFirst commit of discourse on UK topography \u001b[35m [James Hetherington]\u001b[m"
     ]
    }
   ],
   "source": [
    "%%bash\n",
    "git log"
   ]
  },
  {
   "cell_type": "code",
   "execution_count": 66,
   "metadata": {
    "collapsed": false
   },
   "outputs": [
    {
     "name": "stderr",
     "output_type": "stream",
     "text": [
      "To git@github.com:UCL/github-example.git\n",
      "   7525ea9..6e1f668  master -> master\n"
     ]
    }
   ],
   "source": [
    "%%bash\n",
    "git push"
   ]
  },
  {
   "cell_type": "code",
   "execution_count": 67,
   "metadata": {
    "collapsed": false
   },
   "outputs": [
    {
     "data": {
      "image/png": "[encoded data removed]",
      "text/plain": [
       "<IPython.core.display.Image object>"
      ]
     },
     "execution_count": 67,
     "metadata": {},
     "output_type": "execute_result"
    }
   ],
   "source": [
    "message=\"\"\"\n",
    "participant \"Jim's remote\" as M\n",
    "participant \"Jim's repo\" as R\n",
    "participant \"Jim's index\" as I\n",
    "participant Jim as J\n",
    "\n",
    "note right of J: vim index.md\n",
    "note right of J: vim lakeland.md\n",
    "\n",
    "note right of J: git add index.md\n",
    "J->I: Add *only* the changes to index.md to the staging area\n",
    "\n",
    "note right of J: git commit -m \"Include lakes\"\n",
    "I->R: Make a commit from currently staged changes: index.md only\n",
    "\n",
    "note right of J: git commit -am \"Add Helvellyn\"\n",
    "J->I: Stage *all remaining* changes, (lakeland.md)\n",
    "I->R: Make a commit from currently staged changes\n",
    "\n",
    "note right of J: git push\n",
    "R->M: Transfer commits to Github\n",
    "\"\"\"\n",
    "wsd(message)"
   ]
  },
  {
   "cell_type": "markdown",
   "metadata": {},
   "source": [
    "##Collaboration\n",
    "\n",
    "###Form a team"
   ]
  },
  {
   "cell_type": "markdown",
   "metadata": {},
   "source": [
    "Now we're going to get to the most important question of all with Git and GitHub: working with others.\n",
    "\n",
    "Organise into pairs. You're going to be working on the website of one of the two of you, together, so decide who is going to be the leader, and who the collaborator."
   ]
  },
  {
   "cell_type": "markdown",
   "metadata": {},
   "source": [
    "###Giving permission\n",
    "\n",
    "The leader needs to let the collaborator have the right to make changes to his code.\n",
    "\n",
    "In GitHub, go to `settings` on the right, then `collaborators` on the left.\n",
    "\n",
    "Add the user name of your collaborator to the box. They now have the right to push to your repository."
   ]
  },
  {
   "cell_type": "markdown",
   "metadata": {},
   "source": [
    "###Obtaining a colleague's code\n",
    "\n",
    "Next, the collaborator needs to get a copy of the leader's code. For this example notebook,\n",
    "I'm going to be collaborating with myself, swapping between my two repositories.\n",
    "Make yourself a space to put it:"
   ]
  },
  {
   "cell_type": "code",
   "execution_count": 68,
   "metadata": {
    "collapsed": false
   },
   "outputs": [
    {
     "name": "stdout",
     "output_type": "stream",
     "text": [
      "/Users/jamespjh/devel/rsdt/training/rsd-engineeringcourse/session02/learning_git\n"
     ]
    }
   ],
   "source": [
    "%%bash\n",
    "cd .. # EXIT our previous git example, important\n",
    "pwd\n",
    "rm -rf github-example # cleanup after previous example\n",
    "rm -rf partner_dir # cleanup after previous example\n"
   ]
  },
  {
   "cell_type": "code",
   "execution_count": 69,
   "metadata": {
    "collapsed": false
   },
   "outputs": [],
   "source": [
    "os.chdir(git_dir)"
   ]
  },
  {
   "cell_type": "markdown",
   "metadata": {},
   "source": [
    "Next, the collaborator needs to find out the URL of the repository: they should go to the leader's repository's GitHub page, and note the URL on the top of the screen. Make sure the \"ssh\" button is pushed, the URL should begin with `git@github.com`. \n",
    "\n",
    "Copy the URL into your clipboard by clicking on the icon to the right of the URL, and then:"
   ]
  },
  {
   "cell_type": "code",
   "execution_count": 70,
   "metadata": {
    "attributes": {
     "classes": [
      " Bash"
     ],
     "id": ""
    },
    "collapsed": false
   },
   "outputs": [
    {
     "name": "stdout",
     "output_type": "stream",
     "text": [
      "/Users/jamespjh/devel/rsdt/training/rsd-engineeringcourse/session02/learning_git\n"
     ]
    },
    {
     "name": "stderr",
     "output_type": "stream",
     "text": [
      "Cloning into 'github-example'...\n"
     ]
    }
   ],
   "source": [
    "%%bash\n",
    "pwd\n",
    "git clone git@github.com:UCL/github-example.git\n",
    "mv github-example partner_dir"
   ]
  },
  {
   "cell_type": "code",
   "execution_count": 71,
   "metadata": {
    "collapsed": true
   },
   "outputs": [],
   "source": [
    "partner_dir=os.path.join(git_dir, 'partner_dir')\n",
    "os.chdir(partner_dir)"
   ]
  },
  {
   "cell_type": "code",
   "execution_count": 72,
   "metadata": {
    "collapsed": false
   },
   "outputs": [
    {
     "name": "stdout",
     "output_type": "stream",
     "text": [
      "/Users/jamespjh/devel/rsdt/training/rsd-engineeringcourse/session02/learning_git/partner_dir\n",
      "index.md\n",
      "lakeland.md\n"
     ]
    }
   ],
   "source": [
    "%%bash\n",
    "pwd\n",
    "ls"
   ]
  },
  {
   "cell_type": "markdown",
   "metadata": {},
   "source": [
    "Note that your partner's files are now present on your disk:"
   ]
  },
  {
   "cell_type": "code",
   "execution_count": 73,
   "metadata": {
    "collapsed": false
   },
   "outputs": [
    {
     "name": "stdout",
     "output_type": "stream",
     "text": [
      "Lakeland  \n",
      "========   \n",
      "  \n",
      "Cumbria has some pretty hills, and lakes too\n",
      "\n",
      "Mountains:\n",
      "* Helvellyn"
     ]
    }
   ],
   "source": [
    "%%bash\n",
    "cat lakeland.md"
   ]
  },
  {
   "cell_type": "markdown",
   "metadata": {},
   "source": [
    "###Nonconflicting changes\n",
    "\n",
    "Now, both of you should make some changes. To start with, make changes to *different* files. This will mean your work doesn't \"conflict\". Later, we'll see how to deal with changes to a shared file."
   ]
  },
  {
   "cell_type": "markdown",
   "metadata": {},
   "source": [
    "Both of you should commit, but not push, your changes to your respective files:"
   ]
  },
  {
   "cell_type": "markdown",
   "metadata": {},
   "source": [
    "E.g., the leader:"
   ]
  },
  {
   "cell_type": "code",
   "execution_count": 74,
   "metadata": {
    "collapsed": true
   },
   "outputs": [],
   "source": [
    "os.chdir(working_dir)"
   ]
  },
  {
   "cell_type": "code",
   "execution_count": 75,
   "metadata": {
    "collapsed": false
   },
   "outputs": [
    {
     "name": "stdout",
     "output_type": "stream",
     "text": [
      "Writing Wales.md\n"
     ]
    }
   ],
   "source": [
    "%%writefile Wales.md\n",
    "Mountains In Wales\n",
    "==================\n",
    "\n",
    "* Tryfan\n",
    "* Yr Wyddfa"
   ]
  },
  {
   "cell_type": "code",
   "execution_count": 76,
   "metadata": {
    "collapsed": false
   },
   "outputs": [
    {
     "name": "stdout",
     "output_type": "stream",
     "text": [
      "Wales.md\n",
      "index.md\n",
      "lakeland.md\n"
     ]
    }
   ],
   "source": [
    "%%bash\n",
    "ls"
   ]
  },
  {
   "cell_type": "code",
   "execution_count": 77,
   "metadata": {
    "collapsed": false
   },
   "outputs": [
    {
     "name": "stdout",
     "output_type": "stream",
     "text": [
      "[master 66eb585] Add wales\n",
      " 1 file changed, 5 insertions(+)\n",
      " create mode 100644 Wales.md\n"
     ]
    }
   ],
   "source": [
    "%%bash\n",
    "git add Wales.md\n",
    "git commit -m \"Add wales\""
   ]
  },
  {
   "cell_type": "markdown",
   "metadata": {},
   "source": [
    "And the partner:"
   ]
  },
  {
   "cell_type": "code",
   "execution_count": 78,
   "metadata": {
    "collapsed": true
   },
   "outputs": [],
   "source": [
    "os.chdir(partner_dir)"
   ]
  },
  {
   "cell_type": "code",
   "execution_count": 79,
   "metadata": {
    "collapsed": false
   },
   "outputs": [
    {
     "name": "stdout",
     "output_type": "stream",
     "text": [
      "Writing Scotland.md\n"
     ]
    }
   ],
   "source": [
    "%%writefile Scotland.md\n",
    "Mountains In Scotland\n",
    "==================\n",
    "\n",
    "* Ben Eighe\n",
    "* Cairngorm"
   ]
  },
  {
   "cell_type": "code",
   "execution_count": 80,
   "metadata": {
    "collapsed": false
   },
   "outputs": [
    {
     "name": "stdout",
     "output_type": "stream",
     "text": [
      "Scotland.md\n",
      "index.md\n",
      "lakeland.md\n"
     ]
    }
   ],
   "source": [
    "%%bash\n",
    "ls"
   ]
  },
  {
   "cell_type": "code",
   "execution_count": 81,
   "metadata": {
    "collapsed": false
   },
   "outputs": [
    {
     "name": "stdout",
     "output_type": "stream",
     "text": [
      "[master 3ed6142] Add Scotland\n",
      " 1 file changed, 5 insertions(+)\n",
      " create mode 100644 Scotland.md\n"
     ]
    }
   ],
   "source": [
    "%%bash\n",
    "git add Scotland.md\n",
    "git commit -m \"Add Scotland\""
   ]
  },
  {
   "cell_type": "markdown",
   "metadata": {},
   "source": [
    "One of you should now push with `git push`:"
   ]
  },
  {
   "cell_type": "code",
   "execution_count": 82,
   "metadata": {
    "collapsed": false
   },
   "outputs": [
    {
     "name": "stderr",
     "output_type": "stream",
     "text": [
      "To git@github.com:UCL/github-example.git\n",
      "   6e1f668..3ed6142  master -> master\n"
     ]
    }
   ],
   "source": [
    "%%bash\n",
    "git push"
   ]
  },
  {
   "cell_type": "markdown",
   "metadata": {},
   "source": [
    "###Rejected push"
   ]
  },
  {
   "cell_type": "markdown",
   "metadata": {},
   "source": [
    "The other should then push, but should receive an error message:"
   ]
  },
  {
   "cell_type": "code",
   "execution_count": 83,
   "metadata": {
    "collapsed": true
   },
   "outputs": [],
   "source": [
    "os.chdir(working_dir)"
   ]
  },
  {
   "cell_type": "code",
   "execution_count": 84,
   "metadata": {
    "collapsed": false
   },
   "outputs": [
    {
     "name": "stderr",
     "output_type": "stream",
     "text": [
      "To git@github.com:UCL/github-example.git\n",
      " ! [rejected]        master -> master (fetch first)\n",
      "error: failed to push some refs to 'git@github.com:UCL/github-example.git'\n",
      "hint: Updates were rejected because the remote contains work that you do\n",
      "hint: not have locally. This is usually caused by another repository pushing\n",
      "hint: to the same ref. You may want to first integrate the remote changes\n",
      "hint: (e.g., 'git pull ...') before pushing again.\n",
      "hint: See the 'Note about fast-forwards' in 'git push --help' for details.\n"
     ]
    }
   ],
   "source": [
    "%%bash\n",
    "git push"
   ]
  },
  {
   "cell_type": "markdown",
   "metadata": {},
   "source": [
    "Do as it suggests:"
   ]
  },
  {
   "cell_type": "code",
   "execution_count": 85,
   "metadata": {
    "collapsed": false
   },
   "outputs": [
    {
     "name": "stdout",
     "output_type": "stream",
     "text": [
      "Merge made by the 'recursive' strategy.\n",
      " Scotland.md | 5 +++++\n",
      " 1 file changed, 5 insertions(+)\n",
      " create mode 100644 Scotland.md\n"
     ]
    },
    {
     "name": "stderr",
     "output_type": "stream",
     "text": [
      "From github.com:UCL/github-example\n",
      "   6e1f668..3ed6142  master     -> origin/master\n"
     ]
    }
   ],
   "source": [
    "%%bash\n",
    "git pull"
   ]
  },
  {
   "cell_type": "markdown",
   "metadata": {},
   "source": [
    "###Merge commits\n",
    "\n",
    "A window may pop up with a suggested default commit message. This commit is special: it is a *merge* commit. It is a commit which combines your collaborator's work with your own."
   ]
  },
  {
   "cell_type": "markdown",
   "metadata": {},
   "source": [
    "Now, push again with `git push`. This time it works. If you look on GitHub, you'll now see that it contains both sets of changes."
   ]
  },
  {
   "cell_type": "code",
   "execution_count": 86,
   "metadata": {
    "collapsed": false
   },
   "outputs": [
    {
     "name": "stderr",
     "output_type": "stream",
     "text": [
      "To git@github.com:UCL/github-example.git\n",
      "   3ed6142..c1873ec  master -> master\n"
     ]
    }
   ],
   "source": [
    "%%bash\n",
    "git push"
   ]
  },
  {
   "cell_type": "markdown",
   "metadata": {},
   "source": [
    "The partner now needs to pull down that commit:"
   ]
  },
  {
   "cell_type": "code",
   "execution_count": 87,
   "metadata": {
    "collapsed": true
   },
   "outputs": [],
   "source": [
    "os.chdir(partner_dir)"
   ]
  },
  {
   "cell_type": "code",
   "execution_count": 88,
   "metadata": {
    "collapsed": false
   },
   "outputs": [
    {
     "name": "stdout",
     "output_type": "stream",
     "text": [
      "Updating 3ed6142..c1873ec\n",
      "Fast-forward\n",
      " Wales.md | 5 +++++\n",
      " 1 file changed, 5 insertions(+)\n",
      " create mode 100644 Wales.md\n"
     ]
    },
    {
     "name": "stderr",
     "output_type": "stream",
     "text": [
      "From github.com:UCL/github-example\n",
      "   3ed6142..c1873ec  master     -> origin/master\n"
     ]
    }
   ],
   "source": [
    "%%bash\n",
    "git pull"
   ]
  },
  {
   "cell_type": "code",
   "execution_count": 89,
   "metadata": {
    "collapsed": false
   },
   "outputs": [
    {
     "name": "stdout",
     "output_type": "stream",
     "text": [
      "Scotland.md\n",
      "Wales.md\n",
      "index.md\n",
      "lakeland.md\n"
     ]
    }
   ],
   "source": [
    "%%bash\n",
    "ls"
   ]
  },
  {
   "cell_type": "markdown",
   "metadata": {},
   "source": [
    "###Nonconflicted commits to the same file\n",
    "\n",
    "Go through the whole process again, but this time, both of you should make changes to a single file, but make sure that you don't touch the same *line*. Again, the merge should work as before:"
   ]
  },
  {
   "cell_type": "code",
   "execution_count": 90,
   "metadata": {
    "collapsed": false
   },
   "outputs": [
    {
     "name": "stdout",
     "output_type": "stream",
     "text": [
      "Overwriting Wales.md\n"
     ]
    }
   ],
   "source": [
    "%%writefile Wales.md\n",
    "Mountains In Wales\n",
    "==================\n",
    "\n",
    "* Tryfan\n",
    "* Snowdon"
   ]
  },
  {
   "cell_type": "code",
   "execution_count": 91,
   "metadata": {
    "collapsed": false
   },
   "outputs": [
    {
     "name": "stdout",
     "output_type": "stream",
     "text": [
      "diff --git i/Wales.md w/Wales.md\n",
      "index 3809c69..e2ca555 100644\n",
      "--- i/Wales.md\n",
      "+++ w/Wales.md\n",
      "@@ -2,4 +2,4 @@ Mountains In Wales\n",
      " ==================\n",
      " \n",
      " * Tryfan\n",
      "-* Yr Wyddfa\n",
      "\\ No newline at end of file\n",
      "+* Snowdon\n",
      "\\ No newline at end of file\n"
     ]
    }
   ],
   "source": [
    "%%bash\n",
    "git diff"
   ]
  },
  {
   "cell_type": "code",
   "execution_count": 92,
   "metadata": {
    "collapsed": false
   },
   "outputs": [
    {
     "name": "stdout",
     "output_type": "stream",
     "text": [
      "[master 500ba50] Translating from the Welsh\n",
      " 1 file changed, 1 insertion(+), 1 deletion(-)\n"
     ]
    }
   ],
   "source": [
    "%%bash\n",
    "git commit -am \"Translating from the Welsh\""
   ]
  },
  {
   "cell_type": "code",
   "execution_count": 93,
   "metadata": {
    "collapsed": false
   },
   "outputs": [
    {
     "name": "stdout",
     "output_type": "stream",
     "text": [
      "500ba50 Translating from the Welsh\n",
      "c1873ec Merge branch 'master' of github.com:UCL/github-example\n",
      "66eb585 Add wales\n",
      "3ed6142 Add Scotland\n",
      "6e1f668 Add Helvellyn\n",
      "8ebfe89 Include lakes in the scope\n",
      "7525ea9 Add lakeland\n",
      "523bace Revert \"Add a lie about a mountain\"\n",
      "ffa72a4 Change title\n",
      "b799ca5 Add a lie about a mountain\n",
      "a39325c First commit of discourse on UK topography\n"
     ]
    }
   ],
   "source": [
    "%%bash\n",
    "git log --oneline"
   ]
  },
  {
   "cell_type": "code",
   "execution_count": 94,
   "metadata": {
    "collapsed": true
   },
   "outputs": [],
   "source": [
    "os.chdir(working_dir)"
   ]
  },
  {
   "cell_type": "code",
   "execution_count": 95,
   "metadata": {
    "collapsed": false
   },
   "outputs": [
    {
     "name": "stdout",
     "output_type": "stream",
     "text": [
      "Overwriting Wales.md\n"
     ]
    }
   ],
   "source": [
    "%%writefile Wales.md\n",
    "Mountains In Wales\n",
    "==================\n",
    "\n",
    "* Pen y Fan\n",
    "* Tryfan\n",
    "* Snowdon"
   ]
  },
  {
   "cell_type": "code",
   "execution_count": 96,
   "metadata": {
    "collapsed": false
   },
   "outputs": [
    {
     "name": "stdout",
     "output_type": "stream",
     "text": [
      "[master 706ed26] Add a beacon\n",
      " 1 file changed, 2 insertions(+), 1 deletion(-)\n"
     ]
    }
   ],
   "source": [
    "%%bash\n",
    "git commit -am \"Add a beacon\""
   ]
  },
  {
   "cell_type": "code",
   "execution_count": 97,
   "metadata": {
    "collapsed": false
   },
   "outputs": [
    {
     "name": "stdout",
     "output_type": "stream",
     "text": [
      "706ed26 Add a beacon\n",
      "c1873ec Merge branch 'master' of github.com:UCL/github-example\n",
      "66eb585 Add wales\n",
      "3ed6142 Add Scotland\n",
      "6e1f668 Add Helvellyn\n",
      "8ebfe89 Include lakes in the scope\n",
      "7525ea9 Add lakeland\n",
      "523bace Revert \"Add a lie about a mountain\"\n",
      "ffa72a4 Change title\n",
      "b799ca5 Add a lie about a mountain\n",
      "a39325c First commit of discourse on UK topography\n"
     ]
    }
   ],
   "source": [
    "%%bash\n",
    "git log --oneline"
   ]
  },
  {
   "cell_type": "code",
   "execution_count": 98,
   "metadata": {
    "collapsed": false
   },
   "outputs": [
    {
     "name": "stderr",
     "output_type": "stream",
     "text": [
      "To git@github.com:UCL/github-example.git\n",
      "   c1873ec..706ed26  master -> master\n"
     ]
    }
   ],
   "source": [
    "%%bash\n",
    "git push"
   ]
  },
  {
   "cell_type": "markdown",
   "metadata": {},
   "source": [
    "Switching back to the other partner..."
   ]
  },
  {
   "cell_type": "code",
   "execution_count": 99,
   "metadata": {
    "collapsed": true
   },
   "outputs": [],
   "source": [
    "os.chdir(partner_dir)"
   ]
  },
  {
   "cell_type": "code",
   "execution_count": 100,
   "metadata": {
    "collapsed": false
   },
   "outputs": [
    {
     "name": "stderr",
     "output_type": "stream",
     "text": [
      "To git@github.com:UCL/github-example.git\n",
      " ! [rejected]        master -> master (fetch first)\n",
      "error: failed to push some refs to 'git@github.com:UCL/github-example.git'\n",
      "hint: Updates were rejected because the remote contains work that you do\n",
      "hint: not have locally. This is usually caused by another repository pushing\n",
      "hint: to the same ref. You may want to first integrate the remote changes\n",
      "hint: (e.g., 'git pull ...') before pushing again.\n",
      "hint: See the 'Note about fast-forwards' in 'git push --help' for details.\n"
     ]
    }
   ],
   "source": [
    "%%bash\n",
    "git push"
   ]
  },
  {
   "cell_type": "code",
   "execution_count": 101,
   "metadata": {
    "collapsed": false
   },
   "outputs": [
    {
     "name": "stdout",
     "output_type": "stream",
     "text": [
      "Merge made by the 'recursive' strategy.\n",
      " Wales.md | 1 +\n",
      " 1 file changed, 1 insertion(+)\n"
     ]
    },
    {
     "name": "stderr",
     "output_type": "stream",
     "text": [
      "From github.com:UCL/github-example\n",
      "   c1873ec..706ed26  master     -> origin/master\n"
     ]
    }
   ],
   "source": [
    "%%bash\n",
    "git pull"
   ]
  },
  {
   "cell_type": "code",
   "execution_count": 102,
   "metadata": {
    "collapsed": false
   },
   "outputs": [
    {
     "name": "stderr",
     "output_type": "stream",
     "text": [
      "To git@github.com:UCL/github-example.git\n",
      "   706ed26..33ef37d  master -> master\n"
     ]
    }
   ],
   "source": [
    "%%bash\n",
    "git push"
   ]
  },
  {
   "cell_type": "code",
   "execution_count": 103,
   "metadata": {
    "collapsed": false
   },
   "outputs": [
    {
     "name": "stdout",
     "output_type": "stream",
     "text": [
      "*   33ef37d Merge branch 'master' of github.com:UCL/github-example\n",
      "|\\  \n",
      "| * 706ed26 Add a beacon\n",
      "* | 500ba50 Translating from the Welsh\n",
      "|/  \n",
      "*   c1873ec Merge branch 'master' of github.com:UCL/github-example\n",
      "|\\  \n",
      "| * 3ed6142 Add Scotland\n",
      "* | 66eb585 Add wales\n",
      "|/  \n",
      "* 6e1f668 Add Helvellyn\n",
      "* 8ebfe89 Include lakes in the scope\n",
      "* 7525ea9 Add lakeland\n",
      "* 523bace Revert \"Add a lie about a mountain\"\n",
      "* ffa72a4 Change title\n",
      "* b799ca5 Add a lie about a mountain\n",
      "* a39325c First commit of discourse on UK topography\n"
     ]
    }
   ],
   "source": [
    "%%bash\n",
    "git log --oneline --graph"
   ]
  },
  {
   "cell_type": "code",
   "execution_count": 104,
   "metadata": {
    "collapsed": true
   },
   "outputs": [],
   "source": [
    "os.chdir(working_dir)"
   ]
  },
  {
   "cell_type": "code",
   "execution_count": 105,
   "metadata": {
    "collapsed": false
   },
   "outputs": [
    {
     "name": "stdout",
     "output_type": "stream",
     "text": [
      "Updating 706ed26..33ef37d\n",
      "Fast-forward\n"
     ]
    },
    {
     "name": "stderr",
     "output_type": "stream",
     "text": [
      "From github.com:UCL/github-example\n",
      "   706ed26..33ef37d  master     -> origin/master\n"
     ]
    }
   ],
   "source": [
    "%%bash\n",
    "git pull"
   ]
  },
  {
   "cell_type": "code",
   "execution_count": 106,
   "metadata": {
    "collapsed": false
   },
   "outputs": [
    {
     "name": "stdout",
     "output_type": "stream",
     "text": [
      "*   33ef37d Merge branch 'master' of github.com:UCL/github-example\n",
      "|\\  \n",
      "| * 706ed26 Add a beacon\n",
      "* | 500ba50 Translating from the Welsh\n",
      "|/  \n",
      "*   c1873ec Merge branch 'master' of github.com:UCL/github-example\n",
      "|\\  \n",
      "| * 3ed6142 Add Scotland\n",
      "* | 66eb585 Add wales\n",
      "|/  \n",
      "* 6e1f668 Add Helvellyn\n",
      "* 8ebfe89 Include lakes in the scope\n",
      "* 7525ea9 Add lakeland\n",
      "* 523bace Revert \"Add a lie about a mountain\"\n",
      "* ffa72a4 Change title\n",
      "* b799ca5 Add a lie about a mountain\n",
      "* a39325c First commit of discourse on UK topography\n"
     ]
    }
   ],
   "source": [
    "%%bash\n",
    "git log --graph --oneline"
   ]
  },
  {
   "cell_type": "code",
   "execution_count": 107,
   "metadata": {
    "collapsed": false
   },
   "outputs": [
    {
     "data": {
      "image/png": "[encoded data removed]",
      "text/plain": [
       "<IPython.core.display.Image object>"
      ]
     },
     "execution_count": 107,
     "metadata": {},
     "output_type": "execute_result"
    }
   ],
   "source": [
    "message=\"\"\"\n",
    "participant Sue as S\n",
    "participant \"Sue's repo\" as SR\n",
    "participant \"Shared remote\" as M\n",
    "participant \"Jim's repo\" as JR\n",
    "participant Jim as J\n",
    "\n",
    "note left of S: git clone\n",
    "M->SR: fetch commits\n",
    "SR->S: working directory as at latest commit\n",
    "\n",
    "note left of S: edit Scotland.md\n",
    "note right of J: edit Wales.md\n",
    "\n",
    "note left of S: git commit -am \"Add scotland\"\n",
    "S->SR: create commit with Scotland file\n",
    "\n",
    "note right of J: git commit -am \"Add wales\"\n",
    "J->JR: create commit with Wales file\n",
    "\n",
    "note left of S: git push\n",
    "SR->M: update remote with changes\n",
    "\n",
    "note right of J: git push\n",
    "JR-->M: !Rejected change\n",
    "\n",
    "note right of J: git pull\n",
    "M->JR: Pull in Sue's last commit, merge histories\n",
    "JR->J: Add Scotland.md to working directory\n",
    "\n",
    "note right of J: git push\n",
    "JR->M: Transfer merged history to remote\n",
    "\n",
    "\"\"\"\n",
    "wsd(message)"
   ]
  },
  {
   "cell_type": "markdown",
   "metadata": {},
   "source": [
    "###Conflicting commits\n",
    "\n",
    "Finally, go through the process again, but this time, make changes which touch the same line."
   ]
  },
  {
   "cell_type": "code",
   "execution_count": 108,
   "metadata": {
    "collapsed": false
   },
   "outputs": [
    {
     "name": "stdout",
     "output_type": "stream",
     "text": [
      "Overwriting Wales.md\n"
     ]
    }
   ],
   "source": [
    "%%writefile Wales.md\n",
    "Mountains In Wales\n",
    "==================\n",
    "\n",
    "* Pen y Fan\n",
    "* Tryfan\n",
    "* Snowdon\n",
    "* Fan y Big"
   ]
  },
  {
   "cell_type": "code",
   "execution_count": 109,
   "metadata": {
    "collapsed": false
   },
   "outputs": [
    {
     "name": "stdout",
     "output_type": "stream",
     "text": [
      "[master 61e9de0] Add another Beacon\n",
      " 1 file changed, 2 insertions(+), 1 deletion(-)\n"
     ]
    },
    {
     "name": "stderr",
     "output_type": "stream",
     "text": [
      "To git@github.com:UCL/github-example.git\n",
      "   33ef37d..61e9de0  master -> master\n"
     ]
    }
   ],
   "source": [
    "%%bash\n",
    "git commit -am \"Add another Beacon\"\n",
    "git push"
   ]
  },
  {
   "cell_type": "code",
   "execution_count": 110,
   "metadata": {
    "collapsed": true
   },
   "outputs": [],
   "source": [
    "os.chdir(partner_dir)"
   ]
  },
  {
   "cell_type": "code",
   "execution_count": 111,
   "metadata": {
    "collapsed": false
   },
   "outputs": [
    {
     "name": "stdout",
     "output_type": "stream",
     "text": [
      "Overwriting Wales.md\n"
     ]
    }
   ],
   "source": [
    "%%writefile Wales.md\n",
    "Mountains In Wales\n",
    "==================\n",
    "\n",
    "* Pen y Fan\n",
    "* Tryfan\n",
    "* Snowdon\n",
    "* Glyder Fawr"
   ]
  },
  {
   "cell_type": "code",
   "execution_count": 112,
   "metadata": {
    "collapsed": false
   },
   "outputs": [
    {
     "name": "stdout",
     "output_type": "stream",
     "text": [
      "[master a17cf2f] Add Glyder\n",
      " 1 file changed, 2 insertions(+), 1 deletion(-)\n"
     ]
    },
    {
     "name": "stderr",
     "output_type": "stream",
     "text": [
      "To git@github.com:UCL/github-example.git\n",
      " ! [rejected]        master -> master (fetch first)\n",
      "error: failed to push some refs to 'git@github.com:UCL/github-example.git'\n",
      "hint: Updates were rejected because the remote contains work that you do\n",
      "hint: not have locally. This is usually caused by another repository pushing\n",
      "hint: to the same ref. You may want to first integrate the remote changes\n",
      "hint: (e.g., 'git pull ...') before pushing again.\n",
      "hint: See the 'Note about fast-forwards' in 'git push --help' for details.\n"
     ]
    }
   ],
   "source": [
    "%%bash\n",
    "git commit -am \"Add Glyder\"\n",
    "git push"
   ]
  },
  {
   "cell_type": "markdown",
   "metadata": {},
   "source": [
    "When you pull, instead of offering an automatic merge commit message, it says:"
   ]
  },
  {
   "cell_type": "code",
   "execution_count": 113,
   "metadata": {
    "collapsed": false
   },
   "outputs": [
    {
     "name": "stdout",
     "output_type": "stream",
     "text": [
      "CONFLICT (content): Merge conflict in Wales.md\n",
      "Automatic merge failed; fix conflicts and then commit the result.\n"
     ]
    },
    {
     "name": "stderr",
     "output_type": "stream",
     "text": [
      "From github.com:UCL/github-example\n",
      "   33ef37d..61e9de0  master     -> origin/master\n",
      "Recorded preimage for 'Wales.md'\n"
     ]
    }
   ],
   "source": [
    "%%bash\n",
    "git pull"
   ]
  },
  {
   "cell_type": "markdown",
   "metadata": {},
   "source": [
    "###Resolving conflicts\n",
    "\n",
    "Git couldn't work out how to merge the two different sets of changes.\n",
    "\n",
    "You now need to manually resolve the conflict.\n",
    "\n",
    "It has marked the conflicted area:"
   ]
  },
  {
   "cell_type": "code",
   "execution_count": 114,
   "metadata": {
    "collapsed": false
   },
   "outputs": [
    {
     "name": "stdout",
     "output_type": "stream",
     "text": [
      "Mountains In Wales\n",
      "==================\n",
      "\n",
      "* Pen y Fan\n",
      "* Tryfan\n",
      "* Snowdon\n",
      "<<<<<<< HEAD\n",
      "* Glyder Fawr\n",
      "=======\n",
      "* Fan y Big\n",
      ">>>>>>> 61e9de05d646181c3569b60320fc445e7f764bd9\n"
     ]
    }
   ],
   "source": [
    "%%bash\n",
    "cat Wales.md"
   ]
  },
  {
   "cell_type": "markdown",
   "metadata": {},
   "source": [
    "Manually edit the file, to combine the changes as seems sensible and get rid of the symbols:"
   ]
  },
  {
   "cell_type": "code",
   "execution_count": 115,
   "metadata": {
    "collapsed": false
   },
   "outputs": [
    {
     "name": "stdout",
     "output_type": "stream",
     "text": [
      "Overwriting Wales.md\n"
     ]
    }
   ],
   "source": [
    "%%writefile Wales.md\n",
    "Mountains In Wales\n",
    "==================\n",
    "\n",
    "* Pen y Fan\n",
    "* Tryfan\n",
    "* Snowdon\n",
    "* Glyder Fawr\n",
    "* Fan y Big"
   ]
  },
  {
   "cell_type": "markdown",
   "metadata": {},
   "source": [
    "###Commit the resolved file\n",
    "\n",
    "Now commit the merged result:"
   ]
  },
  {
   "cell_type": "code",
   "execution_count": 116,
   "metadata": {
    "collapsed": false
   },
   "outputs": [
    {
     "name": "stdout",
     "output_type": "stream",
     "text": [
      "[master 933656e] Merge branch 'master' of github.com:UCL/github-example\n"
     ]
    },
    {
     "name": "stderr",
     "output_type": "stream",
     "text": [
      "Recorded resolution for 'Wales.md'.\n"
     ]
    }
   ],
   "source": [
    "%%bash\n",
    "git commit -a --no-edit # I added a No-edit for this non-interactive session. You can edit the commit if you like."
   ]
  },
  {
   "cell_type": "code",
   "execution_count": 117,
   "metadata": {
    "collapsed": false
   },
   "outputs": [
    {
     "name": "stderr",
     "output_type": "stream",
     "text": [
      "To git@github.com:UCL/github-example.git\n",
      "   61e9de0..933656e  master -> master\n"
     ]
    }
   ],
   "source": [
    "%%bash\n",
    "git push"
   ]
  },
  {
   "cell_type": "code",
   "execution_count": 118,
   "metadata": {
    "collapsed": true
   },
   "outputs": [],
   "source": [
    "os.chdir(working_dir)"
   ]
  },
  {
   "cell_type": "code",
   "execution_count": 119,
   "metadata": {
    "collapsed": false
   },
   "outputs": [
    {
     "name": "stdout",
     "output_type": "stream",
     "text": [
      "Updating 61e9de0..933656e\n",
      "Fast-forward\n",
      " Wales.md | 1 +\n",
      " 1 file changed, 1 insertion(+)\n"
     ]
    },
    {
     "name": "stderr",
     "output_type": "stream",
     "text": [
      "From github.com:UCL/github-example\n",
      "   61e9de0..933656e  master     -> origin/master\n"
     ]
    }
   ],
   "source": [
    "%%bash\n",
    "git pull"
   ]
  },
  {
   "cell_type": "code",
   "execution_count": 124,
   "metadata": {
    "collapsed": false
   },
   "outputs": [
    {
     "name": "stdout",
     "output_type": "stream",
     "text": [
      "Mountains In Wales\n",
      "==================\n",
      "\n",
      "* Pen y Fan\n",
      "* Tryfan\n",
      "* Snowdon\n",
      "* Glyder Fawr\n",
      "* Fan y Big"
     ]
    }
   ],
   "source": [
    "%%bash\n",
    "cat Wales.md"
   ]
  },
  {
   "cell_type": "code",
   "execution_count": 120,
   "metadata": {
    "collapsed": false
   },
   "outputs": [
    {
     "name": "stdout",
     "output_type": "stream",
     "text": [
      "*   933656e Merge branch 'master' of github.com:UCL/github-example\n",
      "|\\  \n",
      "| * 61e9de0 Add another Beacon\n",
      "* | a17cf2f Add Glyder\n",
      "|/  \n",
      "*   33ef37d Merge branch 'master' of github.com:UCL/github-example\n",
      "|\\  \n",
      "| * 706ed26 Add a beacon\n",
      "* | 500ba50 Translating from the Welsh\n",
      "|/  \n",
      "*   c1873ec Merge branch 'master' of github.com:UCL/github-example\n",
      "|\\  \n",
      "| * 3ed6142 Add Scotland\n",
      "* | 66eb585 Add wales\n",
      "|/  \n",
      "* 6e1f668 Add Helvellyn\n",
      "* 8ebfe89 Include lakes in the scope\n",
      "* 7525ea9 Add lakeland\n",
      "* 523bace Revert \"Add a lie about a mountain\"\n",
      "* ffa72a4 Change title\n",
      "* b799ca5 Add a lie about a mountain\n",
      "* a39325c First commit of discourse on UK topography\n"
     ]
    }
   ],
   "source": [
    "%%bash\n",
    "git log --oneline --graph"
   ]
  },
  {
   "cell_type": "markdown",
   "metadata": {},
   "source": [
    "###Distributed VCS in teams with conflicts"
   ]
  },
  {
   "cell_type": "code",
   "execution_count": 121,
   "metadata": {
    "collapsed": false
   },
   "outputs": [
    {
     "data": {
      "image/png": "[encoded data removed]",
      "text/plain": [
       "<IPython.core.display.Image object>"
      ]
     },
     "execution_count": 121,
     "metadata": {},
     "output_type": "execute_result"
    }
   ],
   "source": [
    "message=\"\"\"\n",
    "participant Sue as S\n",
    "participant \"Sue's repo\" as SR\n",
    "participant \"Shared remote\" as M\n",
    "participant \"Jim's repo\" as JR\n",
    "participant Jim as J\n",
    "\n",
    "note left of S: edit the same line in wales.md\n",
    "note right of J: edit the same line in wales.md\n",
    "    \n",
    "note left of S: git commit -am \"update wales.md\"\n",
    "S->SR: add commit to local repo\n",
    "    \n",
    "note right of J: git commit -am \"update wales.md\"\n",
    "J->JR: add commit to local repo\n",
    "    \n",
    "note left of S: git push\n",
    "SR->M: transfer commit to remote\n",
    "    \n",
    "note right of J: git push\n",
    "JR->M: !Rejected\n",
    "\n",
    "note right of J: git pull\n",
    "JR->J: Make confliced file with conflict markers\n",
    "    \n",
    "note right of J: edit file to resolve conflicts\n",
    "note right of J: git add wales.md\n",
    "note right of J: git commit\n",
    "J->JR: Mark conflict as resolved\n",
    "\n",
    "note right of J: git push\n",
    "JR->M: Transfer merged history to remote\n",
    "\n",
    "note left of S: git pull\n",
    "M->SR: Download Jim's resolution of conflict.\n",
    "    \n",
    "\"\"\"\n",
    "\n",
    "wsd(message)"
   ]
  },
  {
   "cell_type": "markdown",
   "metadata": {},
   "source": [
    "###The Levels of Git"
   ]
  },
  {
   "cell_type": "code",
   "execution_count": 122,
   "metadata": {
    "collapsed": false
   },
   "outputs": [
    {
     "data": {
      "image/png": "[encoded data removed]",
      "text/plain": [
       "<IPython.core.display.Image object>"
      ]
     },
     "execution_count": 122,
     "metadata": {},
     "output_type": "execute_result"
    }
   ],
   "source": [
    "message=\"\"\"\n",
    "Working Directory -> Staging Area : git add\n",
    "Staging Area -> Local Repository : git commit\n",
    "Working Directory -> Local Repository : git commit -a\n",
    "Staging Area -> Working Directory : git checkout\n",
    "Local Repository -> Staging Area : git reset\n",
    "Local Repository -> Working Directory: git reset --hard\n",
    "Local Repository -> Remote Repository : git push\n",
    "Remote Repository -> Local Repository : git fetch\n",
    "Local Repository -> Staging Area : git merge\n",
    "Remote Repository -> Working Directory: git pull\n",
    "\"\"\"\n",
    "\n",
    "wsd(message)"
   ]
  },
  {
   "cell_type": "markdown",
   "metadata": {},
   "source": [
    "##Editing directly on GitHub\n",
    "\n",
    "###Editing directly on GitHub\n",
    "\n",
    "Note that you can also make changes in the GitHub website itself. Visit one of your files, and hit \"edit\".\n",
    "\n",
    "Make a change in the edit window, and add an appropriate commit message.\n",
    "\n",
    "That change now appears on the website, but not in your local copy. (Verify this). "
   ]
  },
  {
   "cell_type": "markdown",
   "metadata": {},
   "source": [
    "Now pull, and check the change is now present on your local version. "
   ]
  },
  {
   "cell_type": "markdown",
   "metadata": {},
   "source": [
    "##Social Coding\n",
    "\n",
    "###GitHub as a social network\n",
    "\n",
    "In addition to being a repository for code, and a way to publish code, GitHub is a social network.  \n",
    "\n",
    "You can follow the public work of other coders: go to the profile of your collaborator in your browser, and it the \"follow\" button. \n",
    "\n",
    "[Here's mine](https://github.com/jamespjh) : if you want to you can follow me.\n",
    "\n",
    "Using GitHub to build up a good public profile of software projects you've worked on is great for your CV!"
   ]
  },
  {
   "cell_type": "markdown",
   "metadata": {},
   "source": [
    "##Software Licensing"
   ]
  },
  {
   "cell_type": "markdown",
   "metadata": {},
   "source": [
    "###Reuse\n",
    "\n",
    "This course is distributed under the [Creative Commons By Attribution license](https://creativecommons.org/licenses/by/3.0/), which means you can modify and reuse the materials, so long as you credit [UCL Research IT Services](http://www.ucl.ac.uk/research-it-services/homepage)."
   ]
  },
  {
   "cell_type": "markdown",
   "metadata": {},
   "source": [
    "###Disclaimer\n",
    "\n",
    "Here we attempt to give some basic advice on choosing a license for your software. But:\n",
    "\n",
    "* we are NOT lawyers\n",
    "* opinions differ (and flamewars are boring)\n",
    "* this training does NOT constitute legal advice. \n",
    "\n",
    "For an in-depth discussion of software licenses, read the [O'Reilly book](http://www.amazon.co.uk/Understanding-Open-Source-Software-Licensing-ebook/dp/B0026OR3J4/ref=tmm_kin_title_0).\n",
    "\n",
    "Your department, or UCL, may have policies about applying licenses to code you create while a UCL employee or student. This training doesn't address this issue, and does not represent UCL policy -- seek advice from your supervisor or manager if concerned."
   ]
  },
  {
   "cell_type": "markdown",
   "metadata": {},
   "source": [
    "###Choose a license\n",
    "\n",
    "It is important to choose a license and to create a *license file* to tell people what it is. \n",
    "\n",
    "The license lets people know whether they can reuse your code and\n",
    "under what terms. [This course has one](https://github.com/UCL/rsd-engineeringcourse/blob/master/LICENSE.md), for example.\n",
    "\n",
    "Your license file should typically be called LICENSE.txt or similar. GitHub will offer to create a license file automatically when you create a new repository."
   ]
  },
  {
   "cell_type": "markdown",
   "metadata": {},
   "source": [
    "###Open source doesn't stop you making money\n",
    "\n",
    "A common misconception about open source software is the thought that\n",
    "open source means you can't make any money. This is *wrong*. \n",
    "\n",
    "Plenty of people open source their software and profit from:\n",
    "\n",
    "* The software under a different license e.g. [Saxon](http://saxon.sourceforge.net/)\n",
    "* Consulting. For example: [Continuum](http://continuum.io/consulting) who help maintain NumPy\n",
    "* Manuals. For example: [VTK](http://www.vtk.org/)\n",
    "* Add-ons. For example: [Puppet](http://puppetlabs.com/puppet/enterprise-vs-open-source)\n",
    "* Server software, which open source client software interacts with. For example: [GitHub API clients](https://github.com/octokit/octokit.rb)"
   ]
  },
  {
   "cell_type": "markdown",
   "metadata": {},
   "source": [
    "###Plagiarism vs promotion\n",
    "\n",
    "Many researchers worry about people stealing their work if they open source their code. But often the biggest problem is not theft, but the fact no one is aware of your work.\n",
    "\n",
    "Open source is a way to increase the probability that someone else on the planet will care enough about your work to cite you.\n",
    "\n",
    "So when thinking about whether to open source your code, think about whether you're more worried about\n",
    "anonymity or theft."
   ]
  },
  {
   "cell_type": "markdown",
   "metadata": {},
   "source": [
    "###Your code *is* good enough\n",
    "\n",
    "New coders worry that they'll be laughed at if they put their code online. Don't worry. Everyone, including people who've been coding for decades, \n",
    "writes shoddy code that is full of bugs.\n",
    "\n",
    "The only thing that will make your code better, is *other people reading it*. \n",
    "\n",
    "For small scripts that no one but you will ever use,\n",
    "my recommendation is to use an open repository anyway. \n",
    "Find a buddy, and get them to comment on it."
   ]
  },
  {
   "cell_type": "markdown",
   "metadata": {},
   "source": [
    "###Worry about license compatibility and proliferation\n",
    "\n",
    "Not all open source code can be used in all projects. Some licenses are legally incompatible.\n",
    "\n",
    "This is a huge and annoying problem. \n",
    "As an author, you might not care, but you can't anticipate the exciting uses people might find by\n",
    "mixing your code with someone else's. \n",
    "\n",
    "Use a standard license from the small list that are well-used.\n",
    "Then people will understand. *Don't make up your own*.\n",
    "\n",
    "When you're about to use a license, see if there's a more common one which is recommended, e.g.:\n",
    "using the [opensource.org proliferation report](http://opensource.org/proliferation-report)"
   ]
  },
  {
   "cell_type": "markdown",
   "metadata": {},
   "source": [
    "###Academic license proliferation\n",
    "\n",
    "Academics often write their own license terms for their software.\n",
    "\n",
    "For example:\n",
    "\n",
    ">XXXX NON-COMMERCIAL EDUCATIONAL LICENSE\n",
    ">Copyright (c) 2013 Prof. Foo.\n",
    ">All rights reserved.\n",
    ">\n",
    ">You may use and modify this software for any non-commercial purpose within your educational \n",
    ">institution. Teaching, academic research, and personal experimentation are examples of purpose \n",
    ">which can be non-commercial.\n",
    ">\n",
    ">You may redistribute the software and modifications to the software for non-commercial \n",
    ">purposes, but only to eligible users of the software (for example, to another university\n",
    ">student or faculty to support joint academic research).\n",
    "\n",
    "Please don't do this. Your desire to slightly tweak the terms is harmful to the\n",
    "future software ecosystem. Also, *Unless you are a lawyer, you cannot do this safely!*"
   ]
  },
  {
   "cell_type": "markdown",
   "metadata": {},
   "source": [
    "###Licenses for code, content, and data.\n",
    "\n",
    "Licenses designed for code should not be used to license data or prose.\n",
    "\n",
    "Don't use Creative Commons for software, or GPL for a book."
   ]
  },
  {
   "cell_type": "markdown",
   "metadata": {},
   "source": [
    "###Licensing issues\n",
    "\n",
    "* Permissive vs share-alike\n",
    "* Non-commercial and academic Use Only\n",
    "* Patents\n",
    "* Use as a web service"
   ]
  },
  {
   "cell_type": "markdown",
   "metadata": {},
   "source": [
    "###Permissive vs share-alike\n",
    "\n",
    "Some licenses require all derived software to be licensed under terms that are similarly free.\n",
    "Such licenses are called \"Share Alike\" or \"Copyleft\".\n",
    "\n",
    "* Licenses in this class include the GPL.\n",
    "\n",
    "Those that don't are called \"Permissive\"\n",
    "\n",
    "* These include Apache, BSD, and MIT licenses.\n",
    "\n",
    "If you want your code to be maximally reusable, use a permissive license\n",
    "If you want to force other people using your code to make derivatives open source, use a copyleft license.\n",
    "\n",
    "If you want to use code that has a permissive license, it's safe to use it and keep your code secret.\n",
    "If you want to use code that has a copyleft license, you'll have to release your code under such a license."
   ]
  },
  {
   "cell_type": "markdown",
   "metadata": {},
   "source": [
    "###Academic use only\n",
    "\n",
    "Some researchers want to make their code free for 'academic use only'.\n",
    "None of the standard licenses state this, and this is a reason why academic bespoke licenses proliferate.\n",
    "\n",
    "However, there is no need for this, in our opinion.\n",
    "\n",
    "*Use of a standard Copyleft license precludes derived software from being sold without also publishing the source*\n",
    "\n",
    "So use of a Copyleft license precludes commercial use.\n",
    "\n",
    "This is a very common way of making a business from open source code: offer the code under GPL for free\n",
    "but offer the code under more permissive terms, allowing for commercial use, for a fee."
   ]
  },
  {
   "cell_type": "markdown",
   "metadata": {},
   "source": [
    "###Patents\n",
    "\n",
    "Intellectual property law distinguishes copyright from patents. \n",
    "This is a complex field, which I am far from qualified to teach!\n",
    "\n",
    "People who think carefully about intellectual property law distinguish software licenses\n",
    "based on how they address patents. Very roughly, if a you want to ensure that contributors to your project\n",
    "can't then go off and patent their contribution, some licenses, such as the Apache license, protect you from this."
   ]
  },
  {
   "cell_type": "markdown",
   "metadata": {},
   "source": [
    "###Use as a web service\n",
    "\n",
    "If I take copyleft code, and use it to host a web service, I have not sold the software.\n",
    "\n",
    "Therefore, under some licenses, I do not have to release any derivative software.\n",
    "This \"loophole\" in the GPL is closed by the AGPL (\"Affero GPL\")"
   ]
  },
  {
   "cell_type": "markdown",
   "metadata": {},
   "source": [
    "###Library linking\n",
    "\n",
    "If I use your code just as a library, without modifying it or including it directly in my own code, \n",
    "does the copyleft term of the GPL apply?\n",
    "\n",
    "*Yes*\n",
    "\n",
    "If you don't want it to, use the LGPL. (\"Lesser GPL\"). This has an exception for linking libraries."
   ]
  },
  {
   "cell_type": "markdown",
   "metadata": {},
   "source": [
    "###Citing software\n",
    "\n",
    "Almost all software licenses require people to credit you for what they used (\"attribution\").\n",
    "\n",
    "In an academic context, it is useful to offer a statement as to how best to do this,\n",
    "citing *which paper to cite in all papers which use the software*.\n",
    "\n",
    "This is best done with a [CITATION](http://www.software.ac.uk/blog/2013-09-02-encouraging-citation-software-introducing-citation-files) file in your repository."
   ]
  },
  {
   "cell_type": "markdown",
   "metadata": {},
   "source": [
    "> To cite ggplot2 in publications, please use:\n",
    "\n",
    ">  H. Wickham. ggplot2: elegant graphics for data analysis. Springer New York,\n",
    " 2009.\n",
    "\n",
    "> A BibTeX entry for LaTeX users is\n",
    "\n",
    "> @Book{,\n",
    "   author = {Hadley Wickham},\n",
    "   title = {ggplot2: elegant graphics for data analysis},\n",
    "   publisher = {Springer New York},\n",
    "   year = {2009},\n",
    "   isbn = {978-0-387-98140-6},\n",
    "   url = {http://had.co.nz/ggplot2/book},\n",
    " }"
   ]
  },
  {
   "cell_type": "markdown",
   "metadata": {},
   "source": [
    "###Referencing the license in every file\n",
    "\n",
    "Some licenses require that you include license information in every file.\n",
    "Others do not. \n",
    "\n",
    "Typically, every file should contain something like:"
   ]
  },
  {
   "cell_type": "code",
   "execution_count": 123,
   "metadata": {
    "collapsed": false
   },
   "outputs": [
    {
     "ename": "SyntaxError",
     "evalue": "invalid syntax (<ipython-input-123-d33bf949fd22>, line 1)",
     "output_type": "error",
     "traceback": [
      "\u001b[0;36m  File \u001b[0;32m\"<ipython-input-123-d33bf949fd22>\"\u001b[0;36m, line \u001b[0;32m1\u001b[0m\n\u001b[0;31m    (/, (C), University, College, London, 2010-2014)\u001b[0m\n\u001b[0m     ^\u001b[0m\n\u001b[0;31mSyntaxError\u001b[0m\u001b[0;31m:\u001b[0m invalid syntax\n"
     ]
    }
   ],
   "source": [
    "// (C) University College London 2010-2014\n",
    "// This software is licensed under the terms of the <foo license>\n",
    "// See <somewhere> for the license details."
   ]
  },
  {
   "cell_type": "markdown",
   "metadata": {},
   "source": [
    "Check your license at\n",
    "[opensource.org](http://opensource.org/) for details of how to apply it to your software. For example, for the [GPL](http://opensource.org/licenses/GPL-3.0#howto)"
   ]
  },
  {
   "cell_type": "markdown",
   "metadata": {},
   "source": [
    "###Choose a license\n",
    "\n",
    "See [GitHub's advice on how to choose a license](http://choosealicense.com/)"
   ]
  },
  {
   "cell_type": "markdown",
   "metadata": {},
   "source": [
    "###Open source does not equal free maintenance\n",
    "\n",
    "One common misunderstanding of open source software is that you'll automatically get loads of contributors from around the internets.\n",
    "This is wrong. Most open source projects get no commits from anyone else.\n",
    "\n",
    "Open source does *not* guarantee your software will live on with people adding to it after you stop working on it.\n",
    "\n",
    "Later in the course, we'll offer some advice on [Software Sustainability](http://software.ac.uk/resources/about)"
   ]
  },
  {
   "cell_type": "markdown",
   "metadata": {},
   "source": [
    "##Managing software issues"
   ]
  },
  {
   "cell_type": "markdown",
   "metadata": {},
   "source": [
    "###Issues\n",
    "\n",
    "Code has *bugs*. It also has *features*, things it should do.\n",
    "\n",
    "A good project has an organised way of managing these. Generally you should use an issue tracker."
   ]
  },
  {
   "cell_type": "markdown",
   "metadata": {},
   "source": [
    "###Some Issue Trackers\n",
    "\n",
    "There are lots of good issue trackers.\n",
    "\n",
    "The most commonly used open source ones are [Trac](http://trac.edgewall.org/) and [Redmine](http://www.redmine.org/).\n",
    "\n",
    "Cloud based issue trackers include [Lighthouse](http://lighthouseapp.com/) and [GitHub](https://github.com/blog/831-issues-2-0-the-next-generation).\n",
    "\n",
    "Commercial solutions include [Jira](https://www.atlassian.com/software/jira).\n",
    "\n",
    "In this course, we'll be using the GitHub issue tracker."
   ]
  },
  {
   "cell_type": "markdown",
   "metadata": {},
   "source": [
    "###Anatomy of an issue\n",
    "\n",
    "* Reporter\n",
    "* Description\n",
    "* Owner\n",
    "* Type [Bug, Feature]\n",
    "* Component\n",
    "* Status\n",
    "* Severity"
   ]
  },
  {
   "cell_type": "markdown",
   "metadata": {},
   "source": [
    "###Reporting a Bug\n",
    "\n",
    "The description should make the bug reproducible:\n",
    "\n",
    "* Version\n",
    "* Steps\n",
    "\n",
    "If possible, submit a minimal reproducing code fragment."
   ]
  },
  {
   "cell_type": "markdown",
   "metadata": {},
   "source": [
    "###Owning an issue\n",
    "\n",
    "* Whoever the issue is assigned to works next.\n",
    "* If an issue needs someone else's work, assign it to them."
   ]
  },
  {
   "cell_type": "markdown",
   "metadata": {},
   "source": [
    "###Status \n",
    "\n",
    "* Submitted\n",
    "* Accepted\n",
    "* Underway\n",
    "* Blocked"
   ]
  },
  {
   "cell_type": "markdown",
   "metadata": {},
   "source": [
    "###Resolutions\n",
    "\n",
    "* Resolved\n",
    "* Will Not Fix\n",
    "* Not reproducible\n",
    "* Not a bug (working as intended)"
   ]
  },
  {
   "cell_type": "markdown",
   "metadata": {},
   "source": [
    "###Bug triage\n",
    "\n",
    "Some organisations use a severity matrix based on:\n",
    "\n",
    "* Severity [Wrong answer, crash, unusable, workaround, cosmetic...]\n",
    "* Frequency [All users, most users, some users...]"
   ]
  },
  {
   "cell_type": "markdown",
   "metadata": {},
   "source": [
    "###The backlog\n",
    "\n",
    "The list of all the bugs that need to be fixed or\n",
    "features that have been requested is called the \"backlog\"."
   ]
  },
  {
   "cell_type": "markdown",
   "metadata": {},
   "source": [
    "###Development cycles\n",
    "\n",
    "Development goes in *cycles*.\n",
    "\n",
    "Cycles range in length from a week to three months.\n",
    "\n",
    "In a given cycle:\n",
    "\n",
    "* Decide which features should be implemented\n",
    "* Decide which bugs should be fixed\n",
    "* Move these issues from the Backlog into the current cycle. (Aka Sprint)"
   ]
  },
  {
   "cell_type": "markdown",
   "metadata": {},
   "source": [
    "###GitHub issues\n",
    "\n",
    "GitHub doesn't have separate fields for status, component, severity etc.\n",
    "Instead, it just has labels, which you can create and delete.\n",
    "\n",
    "See for example [IPython](https://github.com/ipython/ipython/issues?labels=type-bug&page=1&state=open)"
   ]
  }
 ],
 "metadata": {
  "jekyll": {
   "display_name": "Session 2"
  },
  "kernelspec": {
   "display_name": "Python 2",
   "language": "python",
   "name": "python2"
  },
  "language_info": {
   "codemirror_mode": {
    "name": "ipython",
    "version": 2
   },
   "file_extension": ".py",
   "mimetype": "text/x-python",
   "name": "python",
   "nbconvert_exporter": "python",
   "pygments_lexer": "ipython2",
   "version": "2.7.10"
  }
 },
 "nbformat": 4,
 "nbformat_minor": 0
}
